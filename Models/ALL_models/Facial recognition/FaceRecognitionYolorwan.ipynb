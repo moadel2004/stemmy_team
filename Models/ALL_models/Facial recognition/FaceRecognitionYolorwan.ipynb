{
  "cells": [
    {
      "cell_type": "code",
      "execution_count": null,
      "metadata": {
        "colab": {
          "base_uri": "https://localhost:8080/"
        },
        "id": "qfSwKKGp8uC-",
        "outputId": "b5d8afd7-1506-4e9f-ab6d-b729a83fb5cc"
      },
      "outputs": [
        {
          "name": "stdout",
          "output_type": "stream",
          "text": [
            "Requirement already satisfied: roboflow in /usr/local/lib/python3.11/dist-packages (1.1.64)\n",
            "Requirement already satisfied: certifi in /usr/local/lib/python3.11/dist-packages (from roboflow) (2025.4.26)\n",
            "Requirement already satisfied: idna==3.7 in /usr/local/lib/python3.11/dist-packages (from roboflow) (3.7)\n",
            "Requirement already satisfied: cycler in /usr/local/lib/python3.11/dist-packages (from roboflow) (0.12.1)\n",
            "Requirement already satisfied: kiwisolver>=1.3.1 in /usr/local/lib/python3.11/dist-packages (from roboflow) (1.4.8)\n",
            "Requirement already satisfied: matplotlib in /usr/local/lib/python3.11/dist-packages (from roboflow) (3.10.0)\n",
            "Requirement already satisfied: numpy>=1.18.5 in /usr/local/lib/python3.11/dist-packages (from roboflow) (2.0.2)\n",
            "Requirement already satisfied: opencv-python-headless==4.10.0.84 in /usr/local/lib/python3.11/dist-packages (from roboflow) (4.10.0.84)\n",
            "Requirement already satisfied: Pillow>=7.1.2 in /usr/local/lib/python3.11/dist-packages (from roboflow) (11.2.1)\n",
            "Requirement already satisfied: pillow-heif>=0.18.0 in /usr/local/lib/python3.11/dist-packages (from roboflow) (0.22.0)\n",
            "Requirement already satisfied: python-dateutil in /usr/local/lib/python3.11/dist-packages (from roboflow) (2.9.0.post0)\n",
            "Requirement already satisfied: python-dotenv in /usr/local/lib/python3.11/dist-packages (from roboflow) (1.1.0)\n",
            "Requirement already satisfied: requests in /usr/local/lib/python3.11/dist-packages (from roboflow) (2.32.3)\n",
            "Requirement already satisfied: six in /usr/local/lib/python3.11/dist-packages (from roboflow) (1.17.0)\n",
            "Requirement already satisfied: urllib3>=1.26.6 in /usr/local/lib/python3.11/dist-packages (from roboflow) (2.4.0)\n",
            "Requirement already satisfied: tqdm>=4.41.0 in /usr/local/lib/python3.11/dist-packages (from roboflow) (4.67.1)\n",
            "Requirement already satisfied: PyYAML>=5.3.1 in /usr/local/lib/python3.11/dist-packages (from roboflow) (6.0.2)\n",
            "Requirement already satisfied: requests-toolbelt in /usr/local/lib/python3.11/dist-packages (from roboflow) (1.0.0)\n",
            "Requirement already satisfied: filetype in /usr/local/lib/python3.11/dist-packages (from roboflow) (1.2.0)\n",
            "Requirement already satisfied: contourpy>=1.0.1 in /usr/local/lib/python3.11/dist-packages (from matplotlib->roboflow) (1.3.2)\n",
            "Requirement already satisfied: fonttools>=4.22.0 in /usr/local/lib/python3.11/dist-packages (from matplotlib->roboflow) (4.58.0)\n",
            "Requirement already satisfied: packaging>=20.0 in /usr/local/lib/python3.11/dist-packages (from matplotlib->roboflow) (24.2)\n",
            "Requirement already satisfied: pyparsing>=2.3.1 in /usr/local/lib/python3.11/dist-packages (from matplotlib->roboflow) (3.2.3)\n",
            "Requirement already satisfied: charset-normalizer<4,>=2 in /usr/local/lib/python3.11/dist-packages (from requests->roboflow) (3.4.2)\n",
            "loading Roboflow workspace...\n",
            "loading Roboflow project...\n"
          ]
        }
      ],
      "source": [
        " !pip install roboflow\n",
        "\n",
        " from roboflow import Roboflow\n",
        " rf = Roboflow(api_key=\"Xb68LrQwZS9euhUciOyL\")\n",
        " # https://universe.roboflow.com/skripsi2-1r20w/data-primer-2\n",
        " project = rf.workspace(\"skripsi2-1r20w\").project(\"data-primer-2\")\n",
        " version = project.version(9)\n",
        " dataset = version.download(\"yolov11\")"
      ]
    },
    {
      "cell_type": "code",
      "execution_count": null,
      "metadata": {
        "colab": {
          "base_uri": "https://localhost:8080/"
        },
        "id": "r1Bv--NzTbUX",
        "outputId": "273fc484-3e45-42a6-d96f-2989e207d7b1"
      },
      "outputs": [
        {
          "name": "stdout",
          "output_type": "stream",
          "text": [
            "Requirement already satisfied: ultralytics in /usr/local/lib/python3.11/dist-packages (8.3.143)\n",
            "Requirement already satisfied: numpy>=1.23.0 in /usr/local/lib/python3.11/dist-packages (from ultralytics) (2.0.2)\n",
            "Requirement already satisfied: matplotlib>=3.3.0 in /usr/local/lib/python3.11/dist-packages (from ultralytics) (3.10.0)\n",
            "Requirement already satisfied: opencv-python>=4.6.0 in /usr/local/lib/python3.11/dist-packages (from ultralytics) (4.11.0.86)\n",
            "Requirement already satisfied: pillow>=7.1.2 in /usr/local/lib/python3.11/dist-packages (from ultralytics) (11.2.1)\n",
            "Requirement already satisfied: pyyaml>=5.3.1 in /usr/local/lib/python3.11/dist-packages (from ultralytics) (6.0.2)\n",
            "Requirement already satisfied: requests>=2.23.0 in /usr/local/lib/python3.11/dist-packages (from ultralytics) (2.32.3)\n",
            "Requirement already satisfied: scipy>=1.4.1 in /usr/local/lib/python3.11/dist-packages (from ultralytics) (1.15.3)\n",
            "Requirement already satisfied: torch>=1.8.0 in /usr/local/lib/python3.11/dist-packages (from ultralytics) (2.6.0+cu124)\n",
            "Requirement already satisfied: torchvision>=0.9.0 in /usr/local/lib/python3.11/dist-packages (from ultralytics) (0.21.0+cu124)\n",
            "Requirement already satisfied: tqdm>=4.64.0 in /usr/local/lib/python3.11/dist-packages (from ultralytics) (4.67.1)\n",
            "Requirement already satisfied: psutil in /usr/local/lib/python3.11/dist-packages (from ultralytics) (5.9.5)\n",
            "Requirement already satisfied: py-cpuinfo in /usr/local/lib/python3.11/dist-packages (from ultralytics) (9.0.0)\n",
            "Requirement already satisfied: pandas>=1.1.4 in /usr/local/lib/python3.11/dist-packages (from ultralytics) (2.2.2)\n",
            "Requirement already satisfied: ultralytics-thop>=2.0.0 in /usr/local/lib/python3.11/dist-packages (from ultralytics) (2.0.14)\n",
            "Requirement already satisfied: contourpy>=1.0.1 in /usr/local/lib/python3.11/dist-packages (from matplotlib>=3.3.0->ultralytics) (1.3.2)\n",
            "Requirement already satisfied: cycler>=0.10 in /usr/local/lib/python3.11/dist-packages (from matplotlib>=3.3.0->ultralytics) (0.12.1)\n",
            "Requirement already satisfied: fonttools>=4.22.0 in /usr/local/lib/python3.11/dist-packages (from matplotlib>=3.3.0->ultralytics) (4.58.0)\n",
            "Requirement already satisfied: kiwisolver>=1.3.1 in /usr/local/lib/python3.11/dist-packages (from matplotlib>=3.3.0->ultralytics) (1.4.8)\n",
            "Requirement already satisfied: packaging>=20.0 in /usr/local/lib/python3.11/dist-packages (from matplotlib>=3.3.0->ultralytics) (24.2)\n",
            "Requirement already satisfied: pyparsing>=2.3.1 in /usr/local/lib/python3.11/dist-packages (from matplotlib>=3.3.0->ultralytics) (3.2.3)\n",
            "Requirement already satisfied: python-dateutil>=2.7 in /usr/local/lib/python3.11/dist-packages (from matplotlib>=3.3.0->ultralytics) (2.9.0.post0)\n",
            "Requirement already satisfied: pytz>=2020.1 in /usr/local/lib/python3.11/dist-packages (from pandas>=1.1.4->ultralytics) (2025.2)\n",
            "Requirement already satisfied: tzdata>=2022.7 in /usr/local/lib/python3.11/dist-packages (from pandas>=1.1.4->ultralytics) (2025.2)\n",
            "Requirement already satisfied: charset-normalizer<4,>=2 in /usr/local/lib/python3.11/dist-packages (from requests>=2.23.0->ultralytics) (3.4.2)\n",
            "Requirement already satisfied: idna<4,>=2.5 in /usr/local/lib/python3.11/dist-packages (from requests>=2.23.0->ultralytics) (3.7)\n",
            "Requirement already satisfied: urllib3<3,>=1.21.1 in /usr/local/lib/python3.11/dist-packages (from requests>=2.23.0->ultralytics) (2.4.0)\n",
            "Requirement already satisfied: certifi>=2017.4.17 in /usr/local/lib/python3.11/dist-packages (from requests>=2.23.0->ultralytics) (2025.4.26)\n",
            "Requirement already satisfied: filelock in /usr/local/lib/python3.11/dist-packages (from torch>=1.8.0->ultralytics) (3.18.0)\n",
            "Requirement already satisfied: typing-extensions>=4.10.0 in /usr/local/lib/python3.11/dist-packages (from torch>=1.8.0->ultralytics) (4.13.2)\n",
            "Requirement already satisfied: networkx in /usr/local/lib/python3.11/dist-packages (from torch>=1.8.0->ultralytics) (3.4.2)\n",
            "Requirement already satisfied: jinja2 in /usr/local/lib/python3.11/dist-packages (from torch>=1.8.0->ultralytics) (3.1.6)\n",
            "Requirement already satisfied: fsspec in /usr/local/lib/python3.11/dist-packages (from torch>=1.8.0->ultralytics) (2025.3.2)\n",
            "Requirement already satisfied: nvidia-cuda-nvrtc-cu12==12.4.127 in /usr/local/lib/python3.11/dist-packages (from torch>=1.8.0->ultralytics) (12.4.127)\n",
            "Requirement already satisfied: nvidia-cuda-runtime-cu12==12.4.127 in /usr/local/lib/python3.11/dist-packages (from torch>=1.8.0->ultralytics) (12.4.127)\n",
            "Requirement already satisfied: nvidia-cuda-cupti-cu12==12.4.127 in /usr/local/lib/python3.11/dist-packages (from torch>=1.8.0->ultralytics) (12.4.127)\n",
            "Requirement already satisfied: nvidia-cudnn-cu12==9.1.0.70 in /usr/local/lib/python3.11/dist-packages (from torch>=1.8.0->ultralytics) (9.1.0.70)\n",
            "Requirement already satisfied: nvidia-cublas-cu12==12.4.5.8 in /usr/local/lib/python3.11/dist-packages (from torch>=1.8.0->ultralytics) (12.4.5.8)\n",
            "Requirement already satisfied: nvidia-cufft-cu12==11.2.1.3 in /usr/local/lib/python3.11/dist-packages (from torch>=1.8.0->ultralytics) (11.2.1.3)\n",
            "Requirement already satisfied: nvidia-curand-cu12==10.3.5.147 in /usr/local/lib/python3.11/dist-packages (from torch>=1.8.0->ultralytics) (10.3.5.147)\n",
            "Requirement already satisfied: nvidia-cusolver-cu12==11.6.1.9 in /usr/local/lib/python3.11/dist-packages (from torch>=1.8.0->ultralytics) (11.6.1.9)\n",
            "Requirement already satisfied: nvidia-cusparse-cu12==12.3.1.170 in /usr/local/lib/python3.11/dist-packages (from torch>=1.8.0->ultralytics) (12.3.1.170)\n",
            "Requirement already satisfied: nvidia-cusparselt-cu12==0.6.2 in /usr/local/lib/python3.11/dist-packages (from torch>=1.8.0->ultralytics) (0.6.2)\n",
            "Requirement already satisfied: nvidia-nccl-cu12==2.21.5 in /usr/local/lib/python3.11/dist-packages (from torch>=1.8.0->ultralytics) (2.21.5)\n",
            "Requirement already satisfied: nvidia-nvtx-cu12==12.4.127 in /usr/local/lib/python3.11/dist-packages (from torch>=1.8.0->ultralytics) (12.4.127)\n",
            "Requirement already satisfied: nvidia-nvjitlink-cu12==12.4.127 in /usr/local/lib/python3.11/dist-packages (from torch>=1.8.0->ultralytics) (12.4.127)\n",
            "Requirement already satisfied: triton==3.2.0 in /usr/local/lib/python3.11/dist-packages (from torch>=1.8.0->ultralytics) (3.2.0)\n",
            "Requirement already satisfied: sympy==1.13.1 in /usr/local/lib/python3.11/dist-packages (from torch>=1.8.0->ultralytics) (1.13.1)\n",
            "Requirement already satisfied: mpmath<1.4,>=1.1.0 in /usr/local/lib/python3.11/dist-packages (from sympy==1.13.1->torch>=1.8.0->ultralytics) (1.3.0)\n",
            "Requirement already satisfied: six>=1.5 in /usr/local/lib/python3.11/dist-packages (from python-dateutil>=2.7->matplotlib>=3.3.0->ultralytics) (1.17.0)\n",
            "Requirement already satisfied: MarkupSafe>=2.0 in /usr/local/lib/python3.11/dist-packages (from jinja2->torch>=1.8.0->ultralytics) (3.0.2)\n"
          ]
        }
      ],
      "source": [
        "!pip install ultralytics"
      ]
    },
    {
      "cell_type": "code",
      "execution_count": null,
      "metadata": {
        "colab": {
          "base_uri": "https://localhost:8080/"
        },
        "id": "GnZTvVT9Trvn",
        "outputId": "6e7afbab-6efc-4075-958b-ce074f049fe9"
      },
      "outputs": [
        {
          "name": "stdout",
          "output_type": "stream",
          "text": [
            "Ultralytics 8.3.143 🚀 Python-3.11.12 torch-2.6.0+cu124 CPU (Intel Xeon 2.20GHz)\n",
            "\u001b[34m\u001b[1mengine/trainer: \u001b[0magnostic_nms=False, amp=True, augment=False, auto_augment=randaugment, batch=100, bgr=0.0, box=7.5, cache=False, cfg=None, classes=None, close_mosaic=10, cls=0.5, conf=None, copy_paste=0.0, copy_paste_mode=flip, cos_lr=False, cutmix=0.0, data=/content/data-primer-2-9/data.yaml, degrees=0.0, deterministic=True, device=cpu, dfl=1.5, dnn=False, dropout=0.0, dynamic=False, embed=None, epochs=50, erasing=0.4, exist_ok=True, fliplr=0.5, flipud=0.0, format=torchscript, fraction=1.0, freeze=None, half=False, hsv_h=0.015, hsv_s=0.7, hsv_v=0.4, imgsz=640, int8=False, iou=0.7, keras=False, kobj=1.0, line_width=None, lr0=0.001, lrf=0.01, mask_ratio=4, max_det=300, mixup=0.0, mode=train, model=yolo11n.pt, momentum=0.937, mosaic=1.0, multi_scale=False, name=multiclass_Face_Emotions, nbs=64, nms=False, opset=None, optimize=False, optimizer=auto, overlap_mask=True, patience=100, perspective=0.0, plots=True, pose=12.0, pretrained=True, profile=False, project=yolo-face_emotion_recognition_model, rect=False, resume=False, retina_masks=False, save=True, save_conf=False, save_crop=False, save_dir=yolo-face_emotion_recognition_model/multiclass_Face_Emotions, save_frames=False, save_json=False, save_period=-1, save_txt=False, scale=0.5, seed=0, shear=0.0, show=False, show_boxes=True, show_conf=True, show_labels=True, simplify=True, single_cls=False, source=None, split=val, stream_buffer=False, task=detect, time=None, tracker=botsort.yaml, translate=0.1, val=True, verbose=True, vid_stride=1, visualize=False, warmup_bias_lr=0.1, warmup_epochs=3.0, warmup_momentum=0.8, weight_decay=0.0005, workers=8, workspace=None\n",
            "Overriding model.yaml nc=80 with nc=7\n",
            "\n",
            "                   from  n    params  module                                       arguments                     \n",
            "  0                  -1  1       464  ultralytics.nn.modules.conv.Conv             [3, 16, 3, 2]                 \n",
            "  1                  -1  1      4672  ultralytics.nn.modules.conv.Conv             [16, 32, 3, 2]                \n",
            "  2                  -1  1      6640  ultralytics.nn.modules.block.C3k2            [32, 64, 1, False, 0.25]      \n",
            "  3                  -1  1     36992  ultralytics.nn.modules.conv.Conv             [64, 64, 3, 2]                \n",
            "  4                  -1  1     26080  ultralytics.nn.modules.block.C3k2            [64, 128, 1, False, 0.25]     \n",
            "  5                  -1  1    147712  ultralytics.nn.modules.conv.Conv             [128, 128, 3, 2]              \n",
            "  6                  -1  1     87040  ultralytics.nn.modules.block.C3k2            [128, 128, 1, True]           \n",
            "  7                  -1  1    295424  ultralytics.nn.modules.conv.Conv             [128, 256, 3, 2]              \n",
            "  8                  -1  1    346112  ultralytics.nn.modules.block.C3k2            [256, 256, 1, True]           \n",
            "  9                  -1  1    164608  ultralytics.nn.modules.block.SPPF            [256, 256, 5]                 \n",
            " 10                  -1  1    249728  ultralytics.nn.modules.block.C2PSA           [256, 256, 1]                 \n",
            " 11                  -1  1         0  torch.nn.modules.upsampling.Upsample         [None, 2, 'nearest']          \n",
            " 12             [-1, 6]  1         0  ultralytics.nn.modules.conv.Concat           [1]                           \n",
            " 13                  -1  1    111296  ultralytics.nn.modules.block.C3k2            [384, 128, 1, False]          \n",
            " 14                  -1  1         0  torch.nn.modules.upsampling.Upsample         [None, 2, 'nearest']          \n",
            " 15             [-1, 4]  1         0  ultralytics.nn.modules.conv.Concat           [1]                           \n",
            " 16                  -1  1     32096  ultralytics.nn.modules.block.C3k2            [256, 64, 1, False]           \n",
            " 17                  -1  1     36992  ultralytics.nn.modules.conv.Conv             [64, 64, 3, 2]                \n",
            " 18            [-1, 13]  1         0  ultralytics.nn.modules.conv.Concat           [1]                           \n",
            " 19                  -1  1     86720  ultralytics.nn.modules.block.C3k2            [192, 128, 1, False]          \n",
            " 20                  -1  1    147712  ultralytics.nn.modules.conv.Conv             [128, 128, 3, 2]              \n",
            " 21            [-1, 10]  1         0  ultralytics.nn.modules.conv.Concat           [1]                           \n",
            " 22                  -1  1    378880  ultralytics.nn.modules.block.C3k2            [384, 256, 1, True]           \n",
            " 23        [16, 19, 22]  1    432037  ultralytics.nn.modules.head.Detect           [7, [64, 128, 256]]           \n",
            "YOLO11n summary: 181 layers, 2,591,205 parameters, 2,591,189 gradients, 6.4 GFLOPs\n",
            "\n",
            "Transferred 448/499 items from pretrained weights\n",
            "Freezing layer 'model.23.dfl.conv.weight'\n",
            "\u001b[34m\u001b[1mtrain: \u001b[0mFast image access ✅ (ping: 0.1±0.0 ms, read: 11.7±2.9 MB/s, size: 22.4 KB)\n"
          ]
        },
        {
          "name": "stderr",
          "output_type": "stream",
          "text": [
            "\u001b[34m\u001b[1mtrain: \u001b[0mScanning /content/data-primer-2-9/train/labels.cache... 3502 images, 16 backgrounds, 0 corrupt: 100%|██████████| 3502/3502 [00:00<?, ?it/s]\n"
          ]
        },
        {
          "name": "stdout",
          "output_type": "stream",
          "text": [
            "\u001b[34m\u001b[1malbumentations: \u001b[0mBlur(p=0.01, blur_limit=(3, 7)), MedianBlur(p=0.01, blur_limit=(3, 7)), ToGray(p=0.01, method='weighted_average', num_output_channels=3), CLAHE(p=0.01, clip_limit=(1.0, 4.0), tile_grid_size=(8, 8))\n",
            "\u001b[34m\u001b[1mval: \u001b[0mFast image access ✅ (ping: 0.0±0.0 ms, read: 10.9±1.4 MB/s, size: 24.7 KB)\n"
          ]
        },
        {
          "name": "stderr",
          "output_type": "stream",
          "text": [
            "\u001b[34m\u001b[1mval: \u001b[0mScanning /content/data-primer-2-9/valid/labels.cache... 417 images, 0 backgrounds, 0 corrupt: 100%|██████████| 417/417 [00:00<?, ?it/s]\n"
          ]
        },
        {
          "name": "stdout",
          "output_type": "stream",
          "text": [
            "Plotting labels to yolo-face_emotion_recognition_model/multiclass_Face_Emotions/labels.jpg... \n",
            "\u001b[34m\u001b[1moptimizer:\u001b[0m 'optimizer=auto' found, ignoring 'lr0=0.001' and 'momentum=0.937' and determining best 'optimizer', 'lr0' and 'momentum' automatically... \n",
            "\u001b[34m\u001b[1moptimizer:\u001b[0m AdamW(lr=0.000909, momentum=0.9) with parameter groups 81 weight(decay=0.0), 88 weight(decay=0.00078125), 87 bias(decay=0.0)\n",
            "Image sizes 640 train, 640 val\n",
            "Using 0 dataloader workers\n",
            "Logging results to \u001b[1myolo-face_emotion_recognition_model/multiclass_Face_Emotions\u001b[0m\n",
            "Starting training for 50 epochs...\n",
            "\n",
            "      Epoch    GPU_mem   box_loss   cls_loss   dfl_loss  Instances       Size\n"
          ]
        },
        {
          "name": "stderr",
          "output_type": "stream",
          "text": [
            "\r  0%|          | 0/36 [00:00<?, ?it/s]"
          ]
        }
      ],
      "source": [
        "from ultralytics import YOLO\n",
        "\n",
        "model = YOLO(\"yolo11n.pt\")  # or \"yolo11n.pt\" if you're using YOLOv11-compatible models\n",
        "\n",
        "model.train(\n",
        "    data=dataset.location + \"/data.yaml\",  # auto-downloaded by Roboflow\n",
        "    epochs=50,\n",
        "    imgsz=640,\n",
        "    batch=100,\n",
        "    lr0=0.001,  # correct param\n",
        "    project=\"yolo-face_emotion_recognition_model\",\n",
        "    name=\"multiclass_Face_Emotions\",\n",
        "    exist_ok=True\n",
        ")"
      ]
    },
    {
      "cell_type": "code",
      "execution_count": null,
      "metadata": {
        "id": "8pbRr5pXcOhp"
      },
      "outputs": [],
      "source": [
        "!pip install ultralytics opencv-python"
      ]
    },
    {
      "cell_type": "code",
      "execution_count": 2,
      "metadata": {
        "id": "mETVPVOVdY2f"
      },
      "outputs": [
        {
          "name": "stdout",
          "output_type": "stream",
          "text": [
            "Collecting ultralytics\n",
            "  Downloading ultralytics-8.3.146-py3-none-any.whl.metadata (37 kB)\n",
            "Requirement already satisfied: numpy>=1.23.0 in c:\\users\\abdul\\appdata\\local\\programs\\lib\\site-packages (from ultralytics) (2.2.4)\n",
            "Requirement already satisfied: matplotlib>=3.3.0 in c:\\users\\abdul\\appdata\\local\\programs\\lib\\site-packages (from ultralytics) (3.10.1)\n",
            "Requirement already satisfied: opencv-python>=4.6.0 in c:\\users\\abdul\\appdata\\local\\programs\\lib\\site-packages (from ultralytics) (4.11.0.86)\n",
            "Requirement already satisfied: pillow>=7.1.2 in c:\\users\\abdul\\appdata\\local\\programs\\lib\\site-packages (from ultralytics) (11.2.0)\n",
            "Requirement already satisfied: pyyaml>=5.3.1 in c:\\users\\abdul\\appdata\\local\\programs\\lib\\site-packages (from ultralytics) (6.0.2)\n",
            "Requirement already satisfied: requests>=2.23.0 in c:\\users\\abdul\\appdata\\local\\programs\\lib\\site-packages (from ultralytics) (2.32.3)\n",
            "Requirement already satisfied: scipy>=1.4.1 in c:\\users\\abdul\\appdata\\local\\programs\\lib\\site-packages (from ultralytics) (1.15.2)\n",
            "Requirement already satisfied: torch>=1.8.0 in c:\\users\\abdul\\appdata\\local\\programs\\lib\\site-packages (from ultralytics) (2.7.0+cu126)\n",
            "Requirement already satisfied: torchvision>=0.9.0 in c:\\users\\abdul\\appdata\\local\\programs\\lib\\site-packages (from ultralytics) (0.22.0+cu126)\n",
            "Requirement already satisfied: tqdm>=4.64.0 in c:\\users\\abdul\\appdata\\local\\programs\\lib\\site-packages (from ultralytics) (4.67.1)\n",
            "Requirement already satisfied: psutil in c:\\users\\abdul\\appdata\\local\\programs\\lib\\site-packages (from ultralytics) (7.0.0)\n",
            "Collecting py-cpuinfo (from ultralytics)\n",
            "  Downloading py_cpuinfo-9.0.0-py3-none-any.whl.metadata (794 bytes)\n",
            "Requirement already satisfied: pandas>=1.1.4 in c:\\users\\abdul\\appdata\\local\\programs\\lib\\site-packages (from ultralytics) (2.2.3)\n",
            "Collecting ultralytics-thop>=2.0.0 (from ultralytics)\n",
            "  Downloading ultralytics_thop-2.0.14-py3-none-any.whl.metadata (9.4 kB)\n",
            "Requirement already satisfied: contourpy>=1.0.1 in c:\\users\\abdul\\appdata\\local\\programs\\lib\\site-packages (from matplotlib>=3.3.0->ultralytics) (1.3.1)\n",
            "Requirement already satisfied: cycler>=0.10 in c:\\users\\abdul\\appdata\\local\\programs\\lib\\site-packages (from matplotlib>=3.3.0->ultralytics) (0.12.1)\n",
            "Requirement already satisfied: fonttools>=4.22.0 in c:\\users\\abdul\\appdata\\local\\programs\\lib\\site-packages (from matplotlib>=3.3.0->ultralytics) (4.57.0)\n",
            "Requirement already satisfied: kiwisolver>=1.3.1 in c:\\users\\abdul\\appdata\\local\\programs\\lib\\site-packages (from matplotlib>=3.3.0->ultralytics) (1.4.8)\n",
            "Requirement already satisfied: packaging>=20.0 in c:\\users\\abdul\\appdata\\local\\programs\\lib\\site-packages (from matplotlib>=3.3.0->ultralytics) (24.2)\n",
            "Requirement already satisfied: pyparsing>=2.3.1 in c:\\users\\abdul\\appdata\\local\\programs\\lib\\site-packages (from matplotlib>=3.3.0->ultralytics) (3.2.3)\n",
            "Requirement already satisfied: python-dateutil>=2.7 in c:\\users\\abdul\\appdata\\local\\programs\\lib\\site-packages (from matplotlib>=3.3.0->ultralytics) (2.9.0.post0)\n",
            "Requirement already satisfied: pytz>=2020.1 in c:\\users\\abdul\\appdata\\local\\programs\\lib\\site-packages (from pandas>=1.1.4->ultralytics) (2025.2)\n",
            "Requirement already satisfied: tzdata>=2022.7 in c:\\users\\abdul\\appdata\\local\\programs\\lib\\site-packages (from pandas>=1.1.4->ultralytics) (2025.2)\n",
            "Requirement already satisfied: six>=1.5 in c:\\users\\abdul\\appdata\\local\\programs\\lib\\site-packages (from python-dateutil>=2.7->matplotlib>=3.3.0->ultralytics) (1.17.0)\n",
            "Requirement already satisfied: charset-normalizer<4,>=2 in c:\\users\\abdul\\appdata\\local\\programs\\lib\\site-packages (from requests>=2.23.0->ultralytics) (3.4.1)\n",
            "Requirement already satisfied: idna<4,>=2.5 in c:\\users\\abdul\\appdata\\local\\programs\\lib\\site-packages (from requests>=2.23.0->ultralytics) (3.10)\n",
            "Requirement already satisfied: urllib3<3,>=1.21.1 in c:\\users\\abdul\\appdata\\local\\programs\\lib\\site-packages (from requests>=2.23.0->ultralytics) (2.4.0)\n",
            "Requirement already satisfied: certifi>=2017.4.17 in c:\\users\\abdul\\appdata\\local\\programs\\lib\\site-packages (from requests>=2.23.0->ultralytics) (2025.1.31)\n",
            "Requirement already satisfied: filelock in c:\\users\\abdul\\appdata\\local\\programs\\lib\\site-packages (from torch>=1.8.0->ultralytics) (3.18.0)\n",
            "Requirement already satisfied: typing-extensions>=4.10.0 in c:\\users\\abdul\\appdata\\local\\programs\\lib\\site-packages (from torch>=1.8.0->ultralytics) (4.13.2)\n",
            "Requirement already satisfied: sympy>=1.13.3 in c:\\users\\abdul\\appdata\\local\\programs\\lib\\site-packages (from torch>=1.8.0->ultralytics) (1.14.0)\n",
            "Requirement already satisfied: networkx in c:\\users\\abdul\\appdata\\local\\programs\\lib\\site-packages (from torch>=1.8.0->ultralytics) (3.4.2)\n",
            "Requirement already satisfied: jinja2 in c:\\users\\abdul\\appdata\\local\\programs\\lib\\site-packages (from torch>=1.8.0->ultralytics) (3.1.6)\n",
            "Requirement already satisfied: fsspec in c:\\users\\abdul\\appdata\\local\\programs\\lib\\site-packages (from torch>=1.8.0->ultralytics) (2025.3.0)\n",
            "Requirement already satisfied: setuptools in c:\\users\\abdul\\appdata\\local\\programs\\lib\\site-packages (from torch>=1.8.0->ultralytics) (78.1.0)\n",
            "Requirement already satisfied: mpmath<1.4,>=1.1.0 in c:\\users\\abdul\\appdata\\local\\programs\\lib\\site-packages (from sympy>=1.13.3->torch>=1.8.0->ultralytics) (1.3.0)\n",
            "Requirement already satisfied: colorama in c:\\users\\abdul\\appdata\\local\\programs\\lib\\site-packages (from tqdm>=4.64.0->ultralytics) (0.4.6)\n",
            "Requirement already satisfied: MarkupSafe>=2.0 in c:\\users\\abdul\\appdata\\local\\programs\\lib\\site-packages (from jinja2->torch>=1.8.0->ultralytics) (3.0.2)\n",
            "Downloading ultralytics-8.3.146-py3-none-any.whl (1.0 MB)\n",
            "   ---------------------------------------- 0.0/1.0 MB ? eta -:--:--\n",
            "   ---------------------------------------- 0.0/1.0 MB ? eta -:--:--\n",
            "   -------------------- ------------------- 0.5/1.0 MB 3.3 MB/s eta 0:00:01\n",
            "   ------------------------------ --------- 0.8/1.0 MB 2.0 MB/s eta 0:00:01\n",
            "   ---------------------------------------- 1.0/1.0 MB 1.7 MB/s eta 0:00:00\n",
            "Downloading ultralytics_thop-2.0.14-py3-none-any.whl (26 kB)\n",
            "Downloading py_cpuinfo-9.0.0-py3-none-any.whl (22 kB)\n",
            "Installing collected packages: py-cpuinfo, ultralytics-thop, ultralytics\n",
            "\n",
            "   ------------- -------------------------- 1/3 [ultralytics-thop]\n",
            "   -------------------------- ------------- 2/3 [ultralytics]\n",
            "   -------------------------- ------------- 2/3 [ultralytics]\n",
            "   -------------------------- ------------- 2/3 [ultralytics]\n",
            "   -------------------------- ------------- 2/3 [ultralytics]\n",
            "   -------------------------- ------------- 2/3 [ultralytics]\n",
            "   -------------------------- ------------- 2/3 [ultralytics]\n",
            "   -------------------------- ------------- 2/3 [ultralytics]\n",
            "   -------------------------- ------------- 2/3 [ultralytics]\n",
            "   -------------------------- ------------- 2/3 [ultralytics]\n",
            "   -------------------------- ------------- 2/3 [ultralytics]\n",
            "   -------------------------- ------------- 2/3 [ultralytics]\n",
            "   -------------------------- ------------- 2/3 [ultralytics]\n",
            "   -------------------------- ------------- 2/3 [ultralytics]\n",
            "   -------------------------- ------------- 2/3 [ultralytics]\n",
            "   ---------------------------------------- 3/3 [ultralytics]\n",
            "\n",
            "Successfully installed py-cpuinfo-9.0.0 ultralytics-8.3.146 ultralytics-thop-2.0.14\n",
            "Collecting opencv-python-headless\n",
            "  Downloading opencv_python_headless-4.11.0.86-cp37-abi3-win_amd64.whl.metadata (20 kB)\n",
            "Requirement already satisfied: numpy>=1.21.2 in c:\\users\\abdul\\appdata\\local\\programs\\lib\\site-packages (from opencv-python-headless) (2.2.4)\n",
            "Downloading opencv_python_headless-4.11.0.86-cp37-abi3-win_amd64.whl (39.4 MB)\n",
            "   ---------------------------------------- 0.0/39.4 MB ? eta -:--:--\n",
            "   ---------------------------------------- 0.3/39.4 MB ? eta -:--:--\n",
            "    --------------------------------------- 0.5/39.4 MB 2.2 MB/s eta 0:00:18\n",
            "   - -------------------------------------- 1.0/39.4 MB 1.8 MB/s eta 0:00:22\n",
            "   - -------------------------------------- 1.3/39.4 MB 1.8 MB/s eta 0:00:22\n",
            "   - -------------------------------------- 1.8/39.4 MB 2.3 MB/s eta 0:00:17\n",
            "   -- ------------------------------------- 2.4/39.4 MB 2.0 MB/s eta 0:00:19\n",
            "   -- ------------------------------------- 2.9/39.4 MB 2.2 MB/s eta 0:00:17\n",
            "   --- ------------------------------------ 3.7/39.4 MB 2.4 MB/s eta 0:00:15\n",
            "   ---- ----------------------------------- 4.5/39.4 MB 2.6 MB/s eta 0:00:14\n",
            "   ----- ---------------------------------- 5.0/39.4 MB 2.6 MB/s eta 0:00:14\n",
            "   ----- ---------------------------------- 5.8/39.4 MB 2.7 MB/s eta 0:00:13\n",
            "   ------ --------------------------------- 6.3/39.4 MB 2.7 MB/s eta 0:00:13\n",
            "   ------ --------------------------------- 6.8/39.4 MB 2.7 MB/s eta 0:00:13\n",
            "   ------- -------------------------------- 7.6/39.4 MB 2.7 MB/s eta 0:00:12\n",
            "   ------- -------------------------------- 7.9/39.4 MB 2.7 MB/s eta 0:00:12\n",
            "   -------- ------------------------------- 8.4/39.4 MB 2.7 MB/s eta 0:00:12\n",
            "   --------- ------------------------------ 8.9/39.4 MB 2.7 MB/s eta 0:00:12\n",
            "   --------- ------------------------------ 9.7/39.4 MB 2.7 MB/s eta 0:00:11\n",
            "   ---------- ----------------------------- 10.5/39.4 MB 2.7 MB/s eta 0:00:11\n",
            "   ----------- ---------------------------- 11.0/39.4 MB 2.7 MB/s eta 0:00:11\n",
            "   ----------- ---------------------------- 11.5/39.4 MB 2.7 MB/s eta 0:00:11\n",
            "   ------------ --------------------------- 12.3/39.4 MB 2.8 MB/s eta 0:00:10\n",
            "   ------------- -------------------------- 12.8/39.4 MB 2.8 MB/s eta 0:00:10\n",
            "   ------------- -------------------------- 13.6/39.4 MB 2.8 MB/s eta 0:00:10\n",
            "   -------------- ------------------------- 14.4/39.4 MB 2.8 MB/s eta 0:00:09\n",
            "   --------------- ------------------------ 14.9/39.4 MB 2.8 MB/s eta 0:00:09\n",
            "   --------------- ------------------------ 15.5/39.4 MB 2.8 MB/s eta 0:00:09\n",
            "   ---------------- ----------------------- 16.0/39.4 MB 2.8 MB/s eta 0:00:09\n",
            "   ---------------- ----------------------- 16.3/39.4 MB 2.8 MB/s eta 0:00:09\n",
            "   ---------------- ----------------------- 16.5/39.4 MB 2.7 MB/s eta 0:00:09\n",
            "   ----------------- ---------------------- 17.3/39.4 MB 2.8 MB/s eta 0:00:08\n",
            "   ------------------ --------------------- 18.1/39.4 MB 2.8 MB/s eta 0:00:08\n",
            "   ------------------ --------------------- 18.6/39.4 MB 2.8 MB/s eta 0:00:08\n",
            "   ------------------- -------------------- 19.1/39.4 MB 2.7 MB/s eta 0:00:08\n",
            "   ------------------- -------------------- 19.4/39.4 MB 2.7 MB/s eta 0:00:08\n",
            "   -------------------- ------------------- 20.4/39.4 MB 2.8 MB/s eta 0:00:07\n",
            "   --------------------- ------------------ 20.7/39.4 MB 2.8 MB/s eta 0:00:07\n",
            "   --------------------- ------------------ 21.2/39.4 MB 2.8 MB/s eta 0:00:07\n",
            "   ---------------------- ----------------- 22.0/39.4 MB 2.8 MB/s eta 0:00:07\n",
            "   ----------------------- ---------------- 22.8/39.4 MB 2.8 MB/s eta 0:00:06\n",
            "   ----------------------- ---------------- 23.1/39.4 MB 2.8 MB/s eta 0:00:06\n",
            "   ----------------------- ---------------- 23.3/39.4 MB 2.7 MB/s eta 0:00:06\n",
            "   ------------------------ --------------- 23.9/39.4 MB 2.7 MB/s eta 0:00:06\n",
            "   ------------------------ --------------- 24.4/39.4 MB 2.7 MB/s eta 0:00:06\n",
            "   ------------------------- -------------- 24.6/39.4 MB 2.7 MB/s eta 0:00:06\n",
            "   ------------------------- -------------- 25.2/39.4 MB 2.7 MB/s eta 0:00:06\n",
            "   -------------------------- ------------- 25.7/39.4 MB 2.7 MB/s eta 0:00:06\n",
            "   -------------------------- ------------- 26.2/39.4 MB 2.7 MB/s eta 0:00:05\n",
            "   --------------------------- ------------ 27.0/39.4 MB 2.7 MB/s eta 0:00:05\n",
            "   --------------------------- ------------ 27.5/39.4 MB 2.7 MB/s eta 0:00:05\n",
            "   ---------------------------- ----------- 28.0/39.4 MB 2.7 MB/s eta 0:00:05\n",
            "   ----------------------------- ---------- 28.8/39.4 MB 2.7 MB/s eta 0:00:04\n",
            "   ----------------------------- ---------- 29.1/39.4 MB 2.7 MB/s eta 0:00:04\n",
            "   ------------------------------ --------- 29.6/39.4 MB 2.7 MB/s eta 0:00:04\n",
            "   ------------------------------ --------- 30.1/39.4 MB 2.7 MB/s eta 0:00:04\n",
            "   ------------------------------- -------- 30.7/39.4 MB 2.7 MB/s eta 0:00:04\n",
            "   ------------------------------- -------- 31.5/39.4 MB 2.7 MB/s eta 0:00:03\n",
            "   -------------------------------- ------- 32.0/39.4 MB 2.7 MB/s eta 0:00:03\n",
            "   -------------------------------- ------- 32.5/39.4 MB 2.7 MB/s eta 0:00:03\n",
            "   --------------------------------- ------ 32.8/39.4 MB 2.7 MB/s eta 0:00:03\n",
            "   ---------------------------------- ----- 33.6/39.4 MB 2.7 MB/s eta 0:00:03\n",
            "   ---------------------------------- ----- 34.1/39.4 MB 2.7 MB/s eta 0:00:02\n",
            "   ----------------------------------- ---- 34.6/39.4 MB 2.7 MB/s eta 0:00:02\n",
            "   ----------------------------------- ---- 34.9/39.4 MB 2.7 MB/s eta 0:00:02\n",
            "   ----------------------------------- ---- 35.1/39.4 MB 2.6 MB/s eta 0:00:02\n",
            "   ----------------------------------- ---- 35.4/39.4 MB 2.6 MB/s eta 0:00:02\n",
            "   ------------------------------------ --- 35.7/39.4 MB 2.6 MB/s eta 0:00:02\n",
            "   ------------------------------------ --- 36.4/39.4 MB 2.6 MB/s eta 0:00:02\n",
            "   ------------------------------------- -- 36.7/39.4 MB 2.6 MB/s eta 0:00:02\n",
            "   ------------------------------------- -- 37.2/39.4 MB 2.6 MB/s eta 0:00:01\n",
            "   -------------------------------------- - 37.5/39.4 MB 2.6 MB/s eta 0:00:01\n",
            "   -------------------------------------- - 37.7/39.4 MB 2.6 MB/s eta 0:00:01\n",
            "   -------------------------------------- - 38.0/39.4 MB 2.5 MB/s eta 0:00:01\n",
            "   -------------------------------------- - 38.0/39.4 MB 2.5 MB/s eta 0:00:01\n",
            "   -------------------------------------- - 38.0/39.4 MB 2.5 MB/s eta 0:00:01\n",
            "   -------------------------------------- - 38.3/39.4 MB 2.5 MB/s eta 0:00:01\n",
            "   ---------------------------------------  38.5/39.4 MB 2.4 MB/s eta 0:00:01\n",
            "   ---------------------------------------  38.5/39.4 MB 2.4 MB/s eta 0:00:01\n",
            "   ---------------------------------------  39.1/39.4 MB 2.4 MB/s eta 0:00:01\n",
            "   ---------------------------------------  39.3/39.4 MB 2.4 MB/s eta 0:00:01\n",
            "   ---------------------------------------  39.3/39.4 MB 2.4 MB/s eta 0:00:01\n",
            "   ---------------------------------------  39.3/39.4 MB 2.4 MB/s eta 0:00:01\n",
            "   ---------------------------------------  39.3/39.4 MB 2.4 MB/s eta 0:00:01\n",
            "   ---------------------------------------  39.3/39.4 MB 2.4 MB/s eta 0:00:01\n",
            "   ---------------------------------------  39.3/39.4 MB 2.4 MB/s eta 0:00:01\n",
            "   ---------------------------------------  39.3/39.4 MB 2.4 MB/s eta 0:00:01\n",
            "   ---------------------------------------  39.3/39.4 MB 2.4 MB/s eta 0:00:01\n",
            "   ---------------------------------------  39.3/39.4 MB 2.4 MB/s eta 0:00:01\n",
            "   ---------------------------------------  39.3/39.4 MB 2.4 MB/s eta 0:00:01\n",
            "   ---------------------------------------  39.3/39.4 MB 2.4 MB/s eta 0:00:01\n",
            "   ---------------------------------------- 39.4/39.4 MB 2.1 MB/s eta 0:00:00\n",
            "Installing collected packages: opencv-python-headless\n",
            "Successfully installed opencv-python-headless-4.11.0.86\n"
          ]
        }
      ],
      "source": [
        "!pip install ultralytics\n",
        "!pip install opencv-python-headless"
      ]
    },
    {
      "cell_type": "code",
      "execution_count": 10,
      "metadata": {
        "id": "E7P9LGCBdlZM"
      },
      "outputs": [
        {
          "name": "stdout",
          "output_type": "stream",
          "text": [
            "{0: 'A', 1: 'B', 2: 'C', 3: 'CH', 4: 'D', 5: 'E', 6: 'F', 7: 'G', 8: 'H', 9: 'I', 10: 'J', 11: 'K', 12: 'L', 13: 'M', 14: 'N', 15: 'O', 16: 'P', 17: 'Q', 18: 'R', 19: 'S', 20: 'T', 21: 'U', 22: 'V', 23: 'W', 24: 'X', 25: 'Y', 26: 'Z', 27: 'additional', 28: 'alcohol', 29: 'allergy', 30: 'bacon', 31: 'bag', 32: 'barbecue', 33: 'bill', 34: 'biscuit', 35: 'bitter', 36: 'bread', 37: 'burger', 38: 'bye', 39: 'cake', 40: 'cash', 41: 'cheese', 42: 'chicken', 43: 'coke', 44: 'cold', 45: 'cost', 46: 'coupon', 47: 'credit card', 48: 'cup', 49: 'dessert', 50: 'drink', 51: 'drive', 52: 'eat', 53: 'eggs', 54: 'enjoy', 55: 'fork', 56: 'french fries', 57: 'fresh', 58: 'hello', 59: 'hot', 60: 'icecream', 61: 'ingredients', 62: 'juicy', 63: 'ketchup', 64: 'lactose', 65: 'lettuce', 66: 'lid', 67: 'manager', 68: 'menu', 69: 'milk', 70: 'mustard', 71: 'napkin', 72: 'no', 73: 'order', 74: 'pepper', 75: 'pickle', 76: 'pizza', 77: 'please', 78: 'ready', 79: 'receipt', 80: 'refill', 81: 'repeat', 82: 'safe', 83: 'salt', 84: 'sandwich', 85: 'sauce', 86: 'small', 87: 'soda', 88: 'sorry', 89: 'spicy', 90: 'spoon', 91: 'straw', 92: 'sugar', 93: 'sweet', 94: 'thank-you', 95: 'tissues', 96: 'tomato', 97: 'total', 98: 'urgent', 99: 'vegetables', 100: 'wait', 101: 'warm', 102: 'water', 103: 'what', 104: 'yoghurt', 105: 'your'}\n"
          ]
        }
      ],
      "source": [
        "from ultralytics import YOLO\n",
        "model= YOLO(\"ASL.v3i.yolov11-trained.pt\")\n",
        "\n",
        "print(model.names)"
      ]
    },
    {
      "cell_type": "code",
      "execution_count": null,
      "metadata": {
        "id": "AKFOYJ22eIs4"
      },
      "outputs": [
        {
          "ename": "FileNotFoundError",
          "evalue": "[Errno 2] No such file or directory: 'ASL.v3i.yolov11-trained\\\\best.pt'",
          "output_type": "error",
          "traceback": [
            "\u001b[31m---------------------------------------------------------------------------\u001b[39m",
            "\u001b[31mFileNotFoundError\u001b[39m                         Traceback (most recent call last)",
            "\u001b[36mCell\u001b[39m\u001b[36m \u001b[39m\u001b[32mIn[14]\u001b[39m\u001b[32m, line 6\u001b[39m\n\u001b[32m      3\u001b[39m \u001b[38;5;28;01mfrom\u001b[39;00m\u001b[38;5;250m \u001b[39m\u001b[34;01mmatplotlib\u001b[39;00m\u001b[38;5;250m \u001b[39m\u001b[38;5;28;01mimport\u001b[39;00m pyplot \u001b[38;5;28;01mas\u001b[39;00m plt\n\u001b[32m      5\u001b[39m \u001b[38;5;66;03m# Correct relative path (no leading slash)\u001b[39;00m\n\u001b[32m----> \u001b[39m\u001b[32m6\u001b[39m model = \u001b[43mYOLO\u001b[49m\u001b[43m(\u001b[49m\u001b[33;43m\"\u001b[39;49m\u001b[33;43mASL.v3i.yolov11-trained/best.pt\u001b[39;49m\u001b[33;43m\"\u001b[39;49m\u001b[43m)\u001b[49m\n\u001b[32m      7\u001b[39m results = model.predict(\u001b[33m\"\u001b[39m\u001b[33mOIP.jpg\u001b[39m\u001b[33m\"\u001b[39m)  \u001b[38;5;66;03m# Adjust path if needed\u001b[39;00m\n\u001b[32m      9\u001b[39m \u001b[38;5;66;03m# Plot the first result (YOLOv8/11 returns a list of results)\u001b[39;00m\n",
            "\u001b[36mFile \u001b[39m\u001b[32mc:\\Users\\Abdul\\AppData\\Local\\Programs\\Lib\\site-packages\\ultralytics\\models\\yolo\\model.py:79\u001b[39m, in \u001b[36mYOLO.__init__\u001b[39m\u001b[34m(self, model, task, verbose)\u001b[39m\n\u001b[32m     76\u001b[39m     \u001b[38;5;28mself\u001b[39m.\u001b[34m__dict__\u001b[39m = new_instance.\u001b[34m__dict__\u001b[39m\n\u001b[32m     77\u001b[39m \u001b[38;5;28;01melse\u001b[39;00m:\n\u001b[32m     78\u001b[39m     \u001b[38;5;66;03m# Continue with default YOLO initialization\u001b[39;00m\n\u001b[32m---> \u001b[39m\u001b[32m79\u001b[39m     \u001b[38;5;28;43msuper\u001b[39;49m\u001b[43m(\u001b[49m\u001b[43m)\u001b[49m\u001b[43m.\u001b[49m\u001b[34;43m__init__\u001b[39;49m\u001b[43m(\u001b[49m\u001b[43mmodel\u001b[49m\u001b[43m=\u001b[49m\u001b[43mmodel\u001b[49m\u001b[43m,\u001b[49m\u001b[43m \u001b[49m\u001b[43mtask\u001b[49m\u001b[43m=\u001b[49m\u001b[43mtask\u001b[49m\u001b[43m,\u001b[49m\u001b[43m \u001b[49m\u001b[43mverbose\u001b[49m\u001b[43m=\u001b[49m\u001b[43mverbose\u001b[49m\u001b[43m)\u001b[49m\n\u001b[32m     80\u001b[39m     \u001b[38;5;28;01mif\u001b[39;00m \u001b[38;5;28mhasattr\u001b[39m(\u001b[38;5;28mself\u001b[39m.model, \u001b[33m\"\u001b[39m\u001b[33mmodel\u001b[39m\u001b[33m\"\u001b[39m) \u001b[38;5;129;01mand\u001b[39;00m \u001b[33m\"\u001b[39m\u001b[33mRTDETR\u001b[39m\u001b[33m\"\u001b[39m \u001b[38;5;129;01min\u001b[39;00m \u001b[38;5;28mself\u001b[39m.model.model[-\u001b[32m1\u001b[39m]._get_name():  \u001b[38;5;66;03m# if RTDETR head\u001b[39;00m\n\u001b[32m     81\u001b[39m         \u001b[38;5;28;01mfrom\u001b[39;00m\u001b[38;5;250m \u001b[39m\u001b[34;01multralytics\u001b[39;00m\u001b[38;5;250m \u001b[39m\u001b[38;5;28;01mimport\u001b[39;00m RTDETR\n",
            "\u001b[36mFile \u001b[39m\u001b[32mc:\\Users\\Abdul\\AppData\\Local\\Programs\\Lib\\site-packages\\ultralytics\\engine\\model.py:151\u001b[39m, in \u001b[36mModel.__init__\u001b[39m\u001b[34m(self, model, task, verbose)\u001b[39m\n\u001b[32m    149\u001b[39m     \u001b[38;5;28mself\u001b[39m._new(model, task=task, verbose=verbose)\n\u001b[32m    150\u001b[39m \u001b[38;5;28;01melse\u001b[39;00m:\n\u001b[32m--> \u001b[39m\u001b[32m151\u001b[39m     \u001b[38;5;28;43mself\u001b[39;49m\u001b[43m.\u001b[49m\u001b[43m_load\u001b[49m\u001b[43m(\u001b[49m\u001b[43mmodel\u001b[49m\u001b[43m,\u001b[49m\u001b[43m \u001b[49m\u001b[43mtask\u001b[49m\u001b[43m=\u001b[49m\u001b[43mtask\u001b[49m\u001b[43m)\u001b[49m\n\u001b[32m    153\u001b[39m \u001b[38;5;66;03m# Delete super().training for accessing self.model.training\u001b[39;00m\n\u001b[32m    154\u001b[39m \u001b[38;5;28;01mdel\u001b[39;00m \u001b[38;5;28mself\u001b[39m.training\n",
            "\u001b[36mFile \u001b[39m\u001b[32mc:\\Users\\Abdul\\AppData\\Local\\Programs\\Lib\\site-packages\\ultralytics\\engine\\model.py:295\u001b[39m, in \u001b[36mModel._load\u001b[39m\u001b[34m(self, weights, task)\u001b[39m\n\u001b[32m    292\u001b[39m weights = checks.check_model_file_from_stem(weights)  \u001b[38;5;66;03m# add suffix, i.e. yolo11n -> yolo11n.pt\u001b[39;00m\n\u001b[32m    294\u001b[39m \u001b[38;5;28;01mif\u001b[39;00m \u001b[38;5;28mstr\u001b[39m(weights).rpartition(\u001b[33m\"\u001b[39m\u001b[33m.\u001b[39m\u001b[33m\"\u001b[39m)[-\u001b[32m1\u001b[39m] == \u001b[33m\"\u001b[39m\u001b[33mpt\u001b[39m\u001b[33m\"\u001b[39m:\n\u001b[32m--> \u001b[39m\u001b[32m295\u001b[39m     \u001b[38;5;28mself\u001b[39m.model, \u001b[38;5;28mself\u001b[39m.ckpt = \u001b[43mattempt_load_one_weight\u001b[49m\u001b[43m(\u001b[49m\u001b[43mweights\u001b[49m\u001b[43m)\u001b[49m\n\u001b[32m    296\u001b[39m     \u001b[38;5;28mself\u001b[39m.task = \u001b[38;5;28mself\u001b[39m.model.args[\u001b[33m\"\u001b[39m\u001b[33mtask\u001b[39m\u001b[33m\"\u001b[39m]\n\u001b[32m    297\u001b[39m     \u001b[38;5;28mself\u001b[39m.overrides = \u001b[38;5;28mself\u001b[39m.model.args = \u001b[38;5;28mself\u001b[39m._reset_ckpt_args(\u001b[38;5;28mself\u001b[39m.model.args)\n",
            "\u001b[36mFile \u001b[39m\u001b[32mc:\\Users\\Abdul\\AppData\\Local\\Programs\\Lib\\site-packages\\ultralytics\\nn\\tasks.py:1540\u001b[39m, in \u001b[36mattempt_load_one_weight\u001b[39m\u001b[34m(weight, device, inplace, fuse)\u001b[39m\n\u001b[32m   1526\u001b[39m \u001b[38;5;28;01mdef\u001b[39;00m\u001b[38;5;250m \u001b[39m\u001b[34mattempt_load_one_weight\u001b[39m(weight, device=\u001b[38;5;28;01mNone\u001b[39;00m, inplace=\u001b[38;5;28;01mTrue\u001b[39;00m, fuse=\u001b[38;5;28;01mFalse\u001b[39;00m):\n\u001b[32m   1527\u001b[39m \u001b[38;5;250m    \u001b[39m\u001b[33;03m\"\"\"\u001b[39;00m\n\u001b[32m   1528\u001b[39m \u001b[33;03m    Load a single model weights.\u001b[39;00m\n\u001b[32m   1529\u001b[39m \n\u001b[32m   (...)\u001b[39m\u001b[32m   1538\u001b[39m \u001b[33;03m        ckpt (dict): Model checkpoint dictionary.\u001b[39;00m\n\u001b[32m   1539\u001b[39m \u001b[33;03m    \"\"\"\u001b[39;00m\n\u001b[32m-> \u001b[39m\u001b[32m1540\u001b[39m     ckpt, weight = \u001b[43mtorch_safe_load\u001b[49m\u001b[43m(\u001b[49m\u001b[43mweight\u001b[49m\u001b[43m)\u001b[49m  \u001b[38;5;66;03m# load ckpt\u001b[39;00m\n\u001b[32m   1541\u001b[39m     args = {**DEFAULT_CFG_DICT, **(ckpt.get(\u001b[33m\"\u001b[39m\u001b[33mtrain_args\u001b[39m\u001b[33m\"\u001b[39m, {}))}  \u001b[38;5;66;03m# combine model and default args, preferring model args\u001b[39;00m\n\u001b[32m   1542\u001b[39m     model = (ckpt.get(\u001b[33m\"\u001b[39m\u001b[33mema\u001b[39m\u001b[33m\"\u001b[39m) \u001b[38;5;129;01mor\u001b[39;00m ckpt[\u001b[33m\"\u001b[39m\u001b[33mmodel\u001b[39m\u001b[33m\"\u001b[39m]).to(device).float()  \u001b[38;5;66;03m# FP32 model\u001b[39;00m\n",
            "\u001b[36mFile \u001b[39m\u001b[32mc:\\Users\\Abdul\\AppData\\Local\\Programs\\Lib\\site-packages\\ultralytics\\nn\\tasks.py:1444\u001b[39m, in \u001b[36mtorch_safe_load\u001b[39m\u001b[34m(weight, safe_only)\u001b[39m\n\u001b[32m   1442\u001b[39m                 ckpt = torch.load(f, pickle_module=safe_pickle)\n\u001b[32m   1443\u001b[39m         \u001b[38;5;28;01melse\u001b[39;00m:\n\u001b[32m-> \u001b[39m\u001b[32m1444\u001b[39m             ckpt = \u001b[43mtorch\u001b[49m\u001b[43m.\u001b[49m\u001b[43mload\u001b[49m\u001b[43m(\u001b[49m\u001b[43mfile\u001b[49m\u001b[43m,\u001b[49m\u001b[43m \u001b[49m\u001b[43mmap_location\u001b[49m\u001b[43m=\u001b[49m\u001b[33;43m\"\u001b[39;49m\u001b[33;43mcpu\u001b[39;49m\u001b[33;43m\"\u001b[39;49m\u001b[43m)\u001b[49m\n\u001b[32m   1446\u001b[39m \u001b[38;5;28;01mexcept\u001b[39;00m \u001b[38;5;167;01mModuleNotFoundError\u001b[39;00m \u001b[38;5;28;01mas\u001b[39;00m e:  \u001b[38;5;66;03m# e.name is missing module name\u001b[39;00m\n\u001b[32m   1447\u001b[39m     \u001b[38;5;28;01mif\u001b[39;00m e.name == \u001b[33m\"\u001b[39m\u001b[33mmodels\u001b[39m\u001b[33m\"\u001b[39m:\n",
            "\u001b[36mFile \u001b[39m\u001b[32mc:\\Users\\Abdul\\AppData\\Local\\Programs\\Lib\\site-packages\\ultralytics\\utils\\patches.py:117\u001b[39m, in \u001b[36mtorch_load\u001b[39m\u001b[34m(*args, **kwargs)\u001b[39m\n\u001b[32m    114\u001b[39m \u001b[38;5;28;01mif\u001b[39;00m TORCH_1_13 \u001b[38;5;129;01mand\u001b[39;00m \u001b[33m\"\u001b[39m\u001b[33mweights_only\u001b[39m\u001b[33m\"\u001b[39m \u001b[38;5;129;01mnot\u001b[39;00m \u001b[38;5;129;01min\u001b[39;00m kwargs:\n\u001b[32m    115\u001b[39m     kwargs[\u001b[33m\"\u001b[39m\u001b[33mweights_only\u001b[39m\u001b[33m\"\u001b[39m] = \u001b[38;5;28;01mFalse\u001b[39;00m\n\u001b[32m--> \u001b[39m\u001b[32m117\u001b[39m \u001b[38;5;28;01mreturn\u001b[39;00m \u001b[43m_torch_load\u001b[49m\u001b[43m(\u001b[49m\u001b[43m*\u001b[49m\u001b[43margs\u001b[49m\u001b[43m,\u001b[49m\u001b[43m \u001b[49m\u001b[43m*\u001b[49m\u001b[43m*\u001b[49m\u001b[43mkwargs\u001b[49m\u001b[43m)\u001b[49m\n",
            "\u001b[36mFile \u001b[39m\u001b[32mc:\\Users\\Abdul\\AppData\\Local\\Programs\\Lib\\site-packages\\torch\\serialization.py:1479\u001b[39m, in \u001b[36mload\u001b[39m\u001b[34m(f, map_location, pickle_module, weights_only, mmap, **pickle_load_args)\u001b[39m\n\u001b[32m   1476\u001b[39m \u001b[38;5;28;01mif\u001b[39;00m \u001b[33m\"\u001b[39m\u001b[33mencoding\u001b[39m\u001b[33m\"\u001b[39m \u001b[38;5;129;01mnot\u001b[39;00m \u001b[38;5;129;01min\u001b[39;00m pickle_load_args.keys():\n\u001b[32m   1477\u001b[39m     pickle_load_args[\u001b[33m\"\u001b[39m\u001b[33mencoding\u001b[39m\u001b[33m\"\u001b[39m] = \u001b[33m\"\u001b[39m\u001b[33mutf-8\u001b[39m\u001b[33m\"\u001b[39m\n\u001b[32m-> \u001b[39m\u001b[32m1479\u001b[39m \u001b[38;5;28;01mwith\u001b[39;00m \u001b[43m_open_file_like\u001b[49m\u001b[43m(\u001b[49m\u001b[43mf\u001b[49m\u001b[43m,\u001b[49m\u001b[43m \u001b[49m\u001b[33;43m\"\u001b[39;49m\u001b[33;43mrb\u001b[39;49m\u001b[33;43m\"\u001b[39;49m\u001b[43m)\u001b[49m \u001b[38;5;28;01mas\u001b[39;00m opened_file:\n\u001b[32m   1480\u001b[39m     \u001b[38;5;28;01mif\u001b[39;00m _is_zipfile(opened_file):\n\u001b[32m   1481\u001b[39m         \u001b[38;5;66;03m# The zipfile reader is going to advance the current file position.\u001b[39;00m\n\u001b[32m   1482\u001b[39m         \u001b[38;5;66;03m# If we want to actually tail call to torch.jit.load, we need to\u001b[39;00m\n\u001b[32m   1483\u001b[39m         \u001b[38;5;66;03m# reset back to the original position.\u001b[39;00m\n\u001b[32m   1484\u001b[39m         orig_position = opened_file.tell()\n",
            "\u001b[36mFile \u001b[39m\u001b[32mc:\\Users\\Abdul\\AppData\\Local\\Programs\\Lib\\site-packages\\torch\\serialization.py:759\u001b[39m, in \u001b[36m_open_file_like\u001b[39m\u001b[34m(name_or_buffer, mode)\u001b[39m\n\u001b[32m    757\u001b[39m \u001b[38;5;28;01mdef\u001b[39;00m\u001b[38;5;250m \u001b[39m\u001b[34m_open_file_like\u001b[39m(name_or_buffer: FileLike, mode: \u001b[38;5;28mstr\u001b[39m) -> _opener[IO[\u001b[38;5;28mbytes\u001b[39m]]:\n\u001b[32m    758\u001b[39m     \u001b[38;5;28;01mif\u001b[39;00m _is_path(name_or_buffer):\n\u001b[32m--> \u001b[39m\u001b[32m759\u001b[39m         \u001b[38;5;28;01mreturn\u001b[39;00m \u001b[43m_open_file\u001b[49m\u001b[43m(\u001b[49m\u001b[43mname_or_buffer\u001b[49m\u001b[43m,\u001b[49m\u001b[43m \u001b[49m\u001b[43mmode\u001b[49m\u001b[43m)\u001b[49m\n\u001b[32m    760\u001b[39m     \u001b[38;5;28;01melse\u001b[39;00m:\n\u001b[32m    761\u001b[39m         \u001b[38;5;28;01mif\u001b[39;00m \u001b[33m\"\u001b[39m\u001b[33mw\u001b[39m\u001b[33m\"\u001b[39m \u001b[38;5;129;01min\u001b[39;00m mode:\n",
            "\u001b[36mFile \u001b[39m\u001b[32mc:\\Users\\Abdul\\AppData\\Local\\Programs\\Lib\\site-packages\\torch\\serialization.py:740\u001b[39m, in \u001b[36m_open_file.__init__\u001b[39m\u001b[34m(self, name, mode)\u001b[39m\n\u001b[32m    739\u001b[39m \u001b[38;5;28;01mdef\u001b[39;00m\u001b[38;5;250m \u001b[39m\u001b[34m__init__\u001b[39m(\u001b[38;5;28mself\u001b[39m, name: Union[\u001b[38;5;28mstr\u001b[39m, os.PathLike[\u001b[38;5;28mstr\u001b[39m]], mode: \u001b[38;5;28mstr\u001b[39m) -> \u001b[38;5;28;01mNone\u001b[39;00m:\n\u001b[32m--> \u001b[39m\u001b[32m740\u001b[39m     \u001b[38;5;28msuper\u001b[39m().\u001b[34m__init__\u001b[39m(\u001b[38;5;28;43mopen\u001b[39;49m\u001b[43m(\u001b[49m\u001b[43mname\u001b[49m\u001b[43m,\u001b[49m\u001b[43m \u001b[49m\u001b[43mmode\u001b[49m\u001b[43m)\u001b[49m)\n",
            "\u001b[31mFileNotFoundError\u001b[39m: [Errno 2] No such file or directory: 'ASL.v3i.yolov11-trained\\\\best.pt'"
          ]
        }
      ],
      "source": [
        "#from ultralytics import YOLO\n",
        "#import cv2\n",
        "#from matplotlib import pyplot as plt\n",
        "\n",
        "# Correct relative path (no leading slash)model = YOLO(\"ASL.v3i.yolov11-trained/best.pt\")results = model.predict(\"facial_test.jpg\")  # Adjust path if needed\n",
        "\n",
        "# Plot the first result (YOLOv8/11 returns a list of results)\n",
        "#annotated_img = results[0].plot()\n",
        "\n",
        "# Convert BGR to RGB for displaying with matplotlib\n",
        "#annotated_img_rgb = cv2.cvtColor(annotated_img, cv2.COLOR_BGR2RGB)\n",
        "\n",
        "# Display the result\n",
        "#plt.figure(figsize=(10, 10))\n",
        "#plt.imshow(annotated_img_rgb)\n",
        "#plt.axis('off')\n",
        "#plt.title(\"YOLO Prediction\")\n",
        "#plt.show()"
      ]
    }
  ],
  "metadata": {
    "colab": {
      "provenance": []
    },
    "kernelspec": {
      "display_name": "Python 3",
      "name": "python3"
    },
    "language_info": {
      "codemirror_mode": {
        "name": "ipython",
        "version": 3
      },
      "file_extension": ".py",
      "mimetype": "text/x-python",
      "name": "python",
      "nbconvert_exporter": "python",
      "pygments_lexer": "ipython3",
      "version": "3.13.2"
    }
  },
  "nbformat": 4,
  "nbformat_minor": 0
}
