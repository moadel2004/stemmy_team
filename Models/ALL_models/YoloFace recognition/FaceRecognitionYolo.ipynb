{
  "cells": [
    {
      "cell_type": "code",
      "execution_count": 2,
      "metadata": {},
      "outputs": [
        {
          "name": "stdout",
          "output_type": "stream",
          "text": [
            "Requirement already satisfied: roboflow in c:\\users\\abdul\\appdata\\local\\programs\\lib\\site-packages (1.2.6)\n",
            "Requirement already satisfied: certifi in c:\\users\\abdul\\appdata\\local\\programs\\lib\\site-packages (from roboflow) (2025.1.31)\n",
            "Requirement already satisfied: idna==3.7 in c:\\users\\abdul\\appdata\\local\\programs\\lib\\site-packages (from roboflow) (3.7)\n",
            "Requirement already satisfied: cycler in c:\\users\\abdul\\appdata\\local\\programs\\lib\\site-packages (from roboflow) (0.12.1)\n",
            "Requirement already satisfied: kiwisolver>=1.3.1 in c:\\users\\abdul\\appdata\\local\\programs\\lib\\site-packages (from roboflow) (1.4.8)\n",
            "Requirement already satisfied: matplotlib in c:\\users\\abdul\\appdata\\local\\programs\\lib\\site-packages (from roboflow) (3.10.1)\n",
            "Requirement already satisfied: numpy>=1.18.5 in c:\\users\\abdul\\appdata\\local\\programs\\lib\\site-packages (from roboflow) (2.2.4)\n",
            "Requirement already satisfied: opencv-python-headless==4.10.0.84 in c:\\users\\abdul\\appdata\\local\\programs\\lib\\site-packages (from roboflow) (4.10.0.84)\n",
            "Requirement already satisfied: Pillow>=7.1.2 in c:\\users\\abdul\\appdata\\local\\programs\\lib\\site-packages (from roboflow) (11.2.0)\n",
            "Requirement already satisfied: pi-heif<2 in c:\\users\\abdul\\appdata\\local\\programs\\lib\\site-packages (from roboflow) (1.1.0)\n",
            "Requirement already satisfied: pillow-avif-plugin<2 in c:\\users\\abdul\\appdata\\local\\programs\\lib\\site-packages (from roboflow) (1.5.2)\n",
            "Requirement already satisfied: python-dateutil in c:\\users\\abdul\\appdata\\local\\programs\\lib\\site-packages (from roboflow) (2.9.0.post0)\n",
            "Requirement already satisfied: python-dotenv in c:\\users\\abdul\\appdata\\local\\programs\\lib\\site-packages (from roboflow) (1.1.0)\n",
            "Requirement already satisfied: requests in c:\\users\\abdul\\appdata\\local\\programs\\lib\\site-packages (from roboflow) (2.32.3)\n",
            "Requirement already satisfied: six in c:\\users\\abdul\\appdata\\local\\programs\\lib\\site-packages (from roboflow) (1.17.0)\n",
            "Requirement already satisfied: urllib3>=1.26.6 in c:\\users\\abdul\\appdata\\local\\programs\\lib\\site-packages (from roboflow) (2.4.0)\n",
            "Requirement already satisfied: tqdm>=4.41.0 in c:\\users\\abdul\\appdata\\local\\programs\\lib\\site-packages (from roboflow) (4.67.1)\n",
            "Requirement already satisfied: PyYAML>=5.3.1 in c:\\users\\abdul\\appdata\\local\\programs\\lib\\site-packages (from roboflow) (6.0.2)\n",
            "Requirement already satisfied: requests-toolbelt in c:\\users\\abdul\\appdata\\local\\programs\\lib\\site-packages (from roboflow) (1.0.0)\n",
            "Requirement already satisfied: filetype in c:\\users\\abdul\\appdata\\local\\programs\\lib\\site-packages (from roboflow) (1.2.0)\n",
            "Requirement already satisfied: colorama in c:\\users\\abdul\\appdata\\local\\programs\\lib\\site-packages (from tqdm>=4.41.0->roboflow) (0.4.6)\n",
            "Requirement already satisfied: contourpy>=1.0.1 in c:\\users\\abdul\\appdata\\local\\programs\\lib\\site-packages (from matplotlib->roboflow) (1.3.1)\n",
            "Requirement already satisfied: fonttools>=4.22.0 in c:\\users\\abdul\\appdata\\local\\programs\\lib\\site-packages (from matplotlib->roboflow) (4.57.0)\n",
            "Requirement already satisfied: packaging>=20.0 in c:\\users\\abdul\\appdata\\local\\programs\\lib\\site-packages (from matplotlib->roboflow) (24.2)\n",
            "Requirement already satisfied: pyparsing>=2.3.1 in c:\\users\\abdul\\appdata\\local\\programs\\lib\\site-packages (from matplotlib->roboflow) (3.2.3)\n",
            "Requirement already satisfied: charset-normalizer<4,>=2 in c:\\users\\abdul\\appdata\\local\\programs\\lib\\site-packages (from requests->roboflow) (3.4.1)\n"
          ]
        },
        {
          "name": "stderr",
          "output_type": "stream",
          "text": [
            "\n",
            "[notice] A new release of pip is available: 25.1.1 -> 25.2\n",
            "[notice] To update, run: python.exe -m pip install --upgrade pip\n"
          ]
        }
      ],
      "source": [
        " !pip install roboflow"
      ]
    },
    {
      "cell_type": "code",
      "execution_count": 1,
      "metadata": {
        "colab": {
          "base_uri": "https://localhost:8080/"
        },
        "id": "qfSwKKGp8uC-",
        "outputId": "b5d8afd7-1506-4e9f-ab6d-b729a83fb5cc"
      },
      "outputs": [
        {
          "name": "stdout",
          "output_type": "stream",
          "text": [
            "Collecting roboflow\n",
            "  Downloading roboflow-1.2.6-py3-none-any.whl.metadata (9.7 kB)\n",
            "Requirement already satisfied: certifi in c:\\users\\abdul\\appdata\\local\\programs\\lib\\site-packages (from roboflow) (2025.1.31)\n",
            "Collecting idna==3.7 (from roboflow)\n",
            "  Downloading idna-3.7-py3-none-any.whl.metadata (9.9 kB)\n",
            "Requirement already satisfied: cycler in c:\\users\\abdul\\appdata\\local\\programs\\lib\\site-packages (from roboflow) (0.12.1)\n",
            "Requirement already satisfied: kiwisolver>=1.3.1 in c:\\users\\abdul\\appdata\\local\\programs\\lib\\site-packages (from roboflow) (1.4.8)\n",
            "Requirement already satisfied: matplotlib in c:\\users\\abdul\\appdata\\local\\programs\\lib\\site-packages (from roboflow) (3.10.1)\n",
            "Requirement already satisfied: numpy>=1.18.5 in c:\\users\\abdul\\appdata\\local\\programs\\lib\\site-packages (from roboflow) (2.2.4)\n",
            "Collecting opencv-python-headless==4.10.0.84 (from roboflow)\n",
            "  Downloading opencv_python_headless-4.10.0.84-cp37-abi3-win_amd64.whl.metadata (20 kB)\n",
            "Requirement already satisfied: Pillow>=7.1.2 in c:\\users\\abdul\\appdata\\local\\programs\\lib\\site-packages (from roboflow) (11.2.0)\n",
            "Collecting pi-heif<2 (from roboflow)\n",
            "  Downloading pi_heif-1.1.0-cp313-cp313-win_amd64.whl.metadata (6.7 kB)\n",
            "Collecting pillow-avif-plugin<2 (from roboflow)\n",
            "  Downloading pillow_avif_plugin-1.5.2-cp313-cp313-win_amd64.whl.metadata (2.2 kB)\n",
            "Requirement already satisfied: python-dateutil in c:\\users\\abdul\\appdata\\local\\programs\\lib\\site-packages (from roboflow) (2.9.0.post0)\n",
            "Requirement already satisfied: python-dotenv in c:\\users\\abdul\\appdata\\local\\programs\\lib\\site-packages (from roboflow) (1.1.0)\n",
            "Requirement already satisfied: requests in c:\\users\\abdul\\appdata\\local\\programs\\lib\\site-packages (from roboflow) (2.32.3)\n",
            "Requirement already satisfied: six in c:\\users\\abdul\\appdata\\local\\programs\\lib\\site-packages (from roboflow) (1.17.0)\n",
            "Requirement already satisfied: urllib3>=1.26.6 in c:\\users\\abdul\\appdata\\local\\programs\\lib\\site-packages (from roboflow) (2.4.0)\n",
            "Requirement already satisfied: tqdm>=4.41.0 in c:\\users\\abdul\\appdata\\local\\programs\\lib\\site-packages (from roboflow) (4.67.1)\n",
            "Requirement already satisfied: PyYAML>=5.3.1 in c:\\users\\abdul\\appdata\\local\\programs\\lib\\site-packages (from roboflow) (6.0.2)\n",
            "Collecting requests-toolbelt (from roboflow)\n",
            "  Downloading requests_toolbelt-1.0.0-py2.py3-none-any.whl.metadata (14 kB)\n",
            "Collecting filetype (from roboflow)\n",
            "  Downloading filetype-1.2.0-py2.py3-none-any.whl.metadata (6.5 kB)\n",
            "Requirement already satisfied: colorama in c:\\users\\abdul\\appdata\\local\\programs\\lib\\site-packages (from tqdm>=4.41.0->roboflow) (0.4.6)\n",
            "Requirement already satisfied: contourpy>=1.0.1 in c:\\users\\abdul\\appdata\\local\\programs\\lib\\site-packages (from matplotlib->roboflow) (1.3.1)\n",
            "Requirement already satisfied: fonttools>=4.22.0 in c:\\users\\abdul\\appdata\\local\\programs\\lib\\site-packages (from matplotlib->roboflow) (4.57.0)\n",
            "Requirement already satisfied: packaging>=20.0 in c:\\users\\abdul\\appdata\\local\\programs\\lib\\site-packages (from matplotlib->roboflow) (24.2)\n",
            "Requirement already satisfied: pyparsing>=2.3.1 in c:\\users\\abdul\\appdata\\local\\programs\\lib\\site-packages (from matplotlib->roboflow) (3.2.3)\n",
            "Requirement already satisfied: charset-normalizer<4,>=2 in c:\\users\\abdul\\appdata\\local\\programs\\lib\\site-packages (from requests->roboflow) (3.4.1)\n",
            "Downloading roboflow-1.2.6-py3-none-any.whl (88 kB)\n",
            "Downloading idna-3.7-py3-none-any.whl (66 kB)\n",
            "Downloading opencv_python_headless-4.10.0.84-cp37-abi3-win_amd64.whl (38.8 MB)\n",
            "   ---------------------------------------- 0.0/38.8 MB ? eta -:--:--\n",
            "   ---------------------------------------- 0.3/38.8 MB ? eta -:--:--\n",
            "   ---------------------------------------- 0.3/38.8 MB ? eta -:--:--\n",
            "    --------------------------------------- 0.5/38.8 MB 817.7 kB/s eta 0:00:47\n",
            "    --------------------------------------- 0.8/38.8 MB 1.0 MB/s eta 0:00:38\n",
            "   - -------------------------------------- 1.0/38.8 MB 999.9 kB/s eta 0:00:38\n",
            "   - -------------------------------------- 1.3/38.8 MB 1.0 MB/s eta 0:00:36\n",
            "   - -------------------------------------- 1.6/38.8 MB 1.1 MB/s eta 0:00:35\n",
            "   - -------------------------------------- 1.8/38.8 MB 1.1 MB/s eta 0:00:34\n",
            "   -- ------------------------------------- 2.1/38.8 MB 1.1 MB/s eta 0:00:34\n",
            "   -- ------------------------------------- 2.4/38.8 MB 1.2 MB/s eta 0:00:32\n",
            "   -- ------------------------------------- 2.6/38.8 MB 1.2 MB/s eta 0:00:31\n",
            "   --- ------------------------------------ 3.1/38.8 MB 1.2 MB/s eta 0:00:29\n",
            "   --- ------------------------------------ 3.4/38.8 MB 1.3 MB/s eta 0:00:28\n",
            "   ---- ----------------------------------- 3.9/38.8 MB 1.4 MB/s eta 0:00:26\n",
            "   ---- ----------------------------------- 4.2/38.8 MB 1.4 MB/s eta 0:00:26\n",
            "   ---- ----------------------------------- 4.5/38.8 MB 1.4 MB/s eta 0:00:25\n",
            "   ---- ----------------------------------- 4.7/38.8 MB 1.4 MB/s eta 0:00:25\n",
            "   ----- ---------------------------------- 5.2/38.8 MB 1.4 MB/s eta 0:00:24\n",
            "   ----- ---------------------------------- 5.8/38.8 MB 1.5 MB/s eta 0:00:23\n",
            "   ------ --------------------------------- 6.0/38.8 MB 1.5 MB/s eta 0:00:23\n",
            "   ------ --------------------------------- 6.3/38.8 MB 1.5 MB/s eta 0:00:22\n",
            "   ------- -------------------------------- 6.8/38.8 MB 1.5 MB/s eta 0:00:22\n",
            "   ------- -------------------------------- 7.3/38.8 MB 1.5 MB/s eta 0:00:21\n",
            "   ------- -------------------------------- 7.6/38.8 MB 1.6 MB/s eta 0:00:20\n",
            "   -------- ------------------------------- 8.1/38.8 MB 1.6 MB/s eta 0:00:20\n",
            "   -------- ------------------------------- 8.4/38.8 MB 1.6 MB/s eta 0:00:20\n",
            "   -------- ------------------------------- 8.7/38.8 MB 1.6 MB/s eta 0:00:20\n",
            "   --------- ------------------------------ 8.9/38.8 MB 1.5 MB/s eta 0:00:20\n",
            "   --------- ------------------------------ 9.4/38.8 MB 1.6 MB/s eta 0:00:19\n",
            "   ---------- ----------------------------- 10.0/38.8 MB 1.6 MB/s eta 0:00:18\n",
            "   ---------- ----------------------------- 10.2/38.8 MB 1.6 MB/s eta 0:00:18\n",
            "   ---------- ----------------------------- 10.5/38.8 MB 1.6 MB/s eta 0:00:18\n",
            "   ----------- ---------------------------- 11.0/38.8 MB 1.6 MB/s eta 0:00:17\n",
            "   ----------- ---------------------------- 11.5/38.8 MB 1.7 MB/s eta 0:00:17\n",
            "   ------------ --------------------------- 12.1/38.8 MB 1.7 MB/s eta 0:00:16\n",
            "   ------------ --------------------------- 12.6/38.8 MB 1.7 MB/s eta 0:00:16\n",
            "   ------------- -------------------------- 12.8/38.8 MB 1.7 MB/s eta 0:00:16\n",
            "   ------------- -------------------------- 13.1/38.8 MB 1.7 MB/s eta 0:00:15\n",
            "   ------------- -------------------------- 13.4/38.8 MB 1.7 MB/s eta 0:00:15\n",
            "   -------------- ------------------------- 13.9/38.8 MB 1.7 MB/s eta 0:00:15\n",
            "   -------------- ------------------------- 14.2/38.8 MB 1.7 MB/s eta 0:00:15\n",
            "   -------------- ------------------------- 14.4/38.8 MB 1.7 MB/s eta 0:00:15\n",
            "   --------------- ------------------------ 14.7/38.8 MB 1.7 MB/s eta 0:00:15\n",
            "   --------------- ------------------------ 14.9/38.8 MB 1.7 MB/s eta 0:00:15\n",
            "   --------------- ------------------------ 15.2/38.8 MB 1.7 MB/s eta 0:00:15\n",
            "   --------------- ------------------------ 15.5/38.8 MB 1.7 MB/s eta 0:00:15\n",
            "   ---------------- ----------------------- 15.7/38.8 MB 1.7 MB/s eta 0:00:14\n",
            "   ---------------- ----------------------- 16.3/38.8 MB 1.7 MB/s eta 0:00:14\n",
            "   ----------------- ---------------------- 16.5/38.8 MB 1.7 MB/s eta 0:00:14\n",
            "   ----------------- ---------------------- 16.8/38.8 MB 1.7 MB/s eta 0:00:14\n",
            "   ----------------- ---------------------- 17.0/38.8 MB 1.6 MB/s eta 0:00:14\n",
            "   ----------------- ---------------------- 17.3/38.8 MB 1.7 MB/s eta 0:00:13\n",
            "   ------------------ --------------------- 17.8/38.8 MB 1.6 MB/s eta 0:00:13\n",
            "   ------------------ --------------------- 18.1/38.8 MB 1.7 MB/s eta 0:00:13\n",
            "   ------------------ --------------------- 18.4/38.8 MB 1.6 MB/s eta 0:00:13\n",
            "   ------------------- -------------------- 18.6/38.8 MB 1.6 MB/s eta 0:00:13\n",
            "   ------------------- -------------------- 18.9/38.8 MB 1.6 MB/s eta 0:00:13\n",
            "   ------------------- -------------------- 18.9/38.8 MB 1.6 MB/s eta 0:00:13\n",
            "   ------------------- -------------------- 18.9/38.8 MB 1.6 MB/s eta 0:00:13\n",
            "   ------------------- -------------------- 19.1/38.8 MB 1.6 MB/s eta 0:00:13\n",
            "   ------------------- -------------------- 19.1/38.8 MB 1.6 MB/s eta 0:00:13\n",
            "   ------------------- -------------------- 19.1/38.8 MB 1.6 MB/s eta 0:00:13\n",
            "   -------------------- ------------------- 19.7/38.8 MB 1.5 MB/s eta 0:00:13\n",
            "   -------------------- ------------------- 19.9/38.8 MB 1.5 MB/s eta 0:00:13\n",
            "   -------------------- ------------------- 19.9/38.8 MB 1.5 MB/s eta 0:00:13\n",
            "   -------------------- ------------------- 20.2/38.8 MB 1.5 MB/s eta 0:00:13\n",
            "   --------------------- ------------------ 20.7/38.8 MB 1.5 MB/s eta 0:00:12\n",
            "   --------------------- ------------------ 21.0/38.8 MB 1.5 MB/s eta 0:00:12\n",
            "   --------------------- ------------------ 21.0/38.8 MB 1.5 MB/s eta 0:00:12\n",
            "   --------------------- ------------------ 21.2/38.8 MB 1.5 MB/s eta 0:00:12\n",
            "   ---------------------- ----------------- 21.5/38.8 MB 1.5 MB/s eta 0:00:12\n",
            "   ---------------------- ----------------- 21.5/38.8 MB 1.5 MB/s eta 0:00:12\n",
            "   ---------------------- ----------------- 22.0/38.8 MB 1.5 MB/s eta 0:00:12\n",
            "   ---------------------- ----------------- 22.3/38.8 MB 1.5 MB/s eta 0:00:12\n",
            "   ----------------------- ---------------- 22.5/38.8 MB 1.5 MB/s eta 0:00:11\n",
            "   ----------------------- ---------------- 22.8/38.8 MB 1.5 MB/s eta 0:00:11\n",
            "   ----------------------- ---------------- 23.1/38.8 MB 1.5 MB/s eta 0:00:11\n",
            "   ------------------------ --------------- 23.3/38.8 MB 1.5 MB/s eta 0:00:11\n",
            "   ------------------------ --------------- 23.6/38.8 MB 1.5 MB/s eta 0:00:11\n",
            "   ------------------------ --------------- 23.6/38.8 MB 1.5 MB/s eta 0:00:11\n",
            "   ------------------------ --------------- 23.9/38.8 MB 1.5 MB/s eta 0:00:11\n",
            "   ------------------------ --------------- 24.1/38.8 MB 1.4 MB/s eta 0:00:11\n",
            "   ------------------------ --------------- 24.1/38.8 MB 1.4 MB/s eta 0:00:11\n",
            "   ------------------------- -------------- 24.6/38.8 MB 1.4 MB/s eta 0:00:10\n",
            "   ------------------------- -------------- 24.9/38.8 MB 1.4 MB/s eta 0:00:10\n",
            "   ------------------------- -------------- 25.2/38.8 MB 1.4 MB/s eta 0:00:10\n",
            "   -------------------------- ------------- 25.7/38.8 MB 1.4 MB/s eta 0:00:10\n",
            "   -------------------------- ------------- 25.7/38.8 MB 1.4 MB/s eta 0:00:10\n",
            "   -------------------------- ------------- 26.0/38.8 MB 1.4 MB/s eta 0:00:09\n",
            "   --------------------------- ------------ 26.2/38.8 MB 1.4 MB/s eta 0:00:09\n",
            "   --------------------------- ------------ 26.2/38.8 MB 1.4 MB/s eta 0:00:09\n",
            "   --------------------------- ------------ 26.5/38.8 MB 1.4 MB/s eta 0:00:09\n",
            "   --------------------------- ------------ 26.7/38.8 MB 1.4 MB/s eta 0:00:09\n",
            "   --------------------------- ------------ 27.0/38.8 MB 1.4 MB/s eta 0:00:09\n",
            "   ---------------------------- ----------- 27.3/38.8 MB 1.4 MB/s eta 0:00:09\n",
            "   ---------------------------- ----------- 27.5/38.8 MB 1.4 MB/s eta 0:00:08\n",
            "   ---------------------------- ----------- 27.5/38.8 MB 1.4 MB/s eta 0:00:08\n",
            "   ---------------------------- ----------- 27.8/38.8 MB 1.4 MB/s eta 0:00:08\n",
            "   ---------------------------- ----------- 27.8/38.8 MB 1.4 MB/s eta 0:00:08\n",
            "   ---------------------------- ----------- 27.8/38.8 MB 1.4 MB/s eta 0:00:08\n",
            "   ---------------------------- ----------- 28.0/38.8 MB 1.4 MB/s eta 0:00:08\n",
            "   ----------------------------- ---------- 28.3/38.8 MB 1.4 MB/s eta 0:00:08\n",
            "   ----------------------------- ---------- 28.3/38.8 MB 1.4 MB/s eta 0:00:08\n",
            "   ----------------------------- ---------- 28.6/38.8 MB 1.4 MB/s eta 0:00:08\n",
            "   ------------------------------ --------- 29.1/38.8 MB 1.4 MB/s eta 0:00:08\n",
            "   ------------------------------ --------- 29.1/38.8 MB 1.4 MB/s eta 0:00:08\n",
            "   ------------------------------ --------- 29.4/38.8 MB 1.4 MB/s eta 0:00:07\n",
            "   ------------------------------ --------- 29.6/38.8 MB 1.3 MB/s eta 0:00:07\n",
            "   ------------------------------ --------- 29.6/38.8 MB 1.3 MB/s eta 0:00:07\n",
            "   ------------------------------ --------- 29.9/38.8 MB 1.3 MB/s eta 0:00:07\n",
            "   ------------------------------- -------- 30.1/38.8 MB 1.3 MB/s eta 0:00:07\n",
            "   ------------------------------- -------- 30.4/38.8 MB 1.3 MB/s eta 0:00:07\n",
            "   ------------------------------- -------- 30.9/38.8 MB 1.3 MB/s eta 0:00:06\n",
            "   ------------------------------- -------- 30.9/38.8 MB 1.3 MB/s eta 0:00:06\n",
            "   -------------------------------- ------- 31.2/38.8 MB 1.3 MB/s eta 0:00:06\n",
            "   -------------------------------- ------- 31.5/38.8 MB 1.3 MB/s eta 0:00:06\n",
            "   --------------------------------- ------ 32.0/38.8 MB 1.3 MB/s eta 0:00:06\n",
            "   --------------------------------- ------ 32.0/38.8 MB 1.3 MB/s eta 0:00:06\n",
            "   --------------------------------- ------ 32.2/38.8 MB 1.3 MB/s eta 0:00:05\n",
            "   --------------------------------- ------ 32.8/38.8 MB 1.3 MB/s eta 0:00:05\n",
            "   --------------------------------- ------ 32.8/38.8 MB 1.3 MB/s eta 0:00:05\n",
            "   --------------------------------- ------ 32.8/38.8 MB 1.3 MB/s eta 0:00:05\n",
            "   --------------------------------- ------ 32.8/38.8 MB 1.3 MB/s eta 0:00:05\n",
            "   --------------------------------- ------ 32.8/38.8 MB 1.3 MB/s eta 0:00:05\n",
            "   --------------------------------- ------ 32.8/38.8 MB 1.3 MB/s eta 0:00:05\n",
            "   --------------------------------- ------ 32.8/38.8 MB 1.3 MB/s eta 0:00:05\n",
            "   --------------------------------- ------ 32.8/38.8 MB 1.3 MB/s eta 0:00:05\n",
            "   --------------------------------- ------ 32.8/38.8 MB 1.3 MB/s eta 0:00:05\n",
            "   --------------------------------- ------ 32.8/38.8 MB 1.3 MB/s eta 0:00:05\n",
            "   ---------------------------------- ----- 33.0/38.8 MB 1.3 MB/s eta 0:00:05\n",
            "   ---------------------------------- ----- 33.0/38.8 MB 1.3 MB/s eta 0:00:05\n",
            "   ---------------------------------- ----- 33.0/38.8 MB 1.3 MB/s eta 0:00:05\n",
            "   ---------------------------------- ----- 33.3/38.8 MB 1.2 MB/s eta 0:00:05\n",
            "   ---------------------------------- ----- 33.3/38.8 MB 1.2 MB/s eta 0:00:05\n",
            "   ---------------------------------- ----- 33.3/38.8 MB 1.2 MB/s eta 0:00:05\n",
            "   ---------------------------------- ----- 33.8/38.8 MB 1.2 MB/s eta 0:00:05\n",
            "   ----------------------------------- ---- 34.1/38.8 MB 1.2 MB/s eta 0:00:04\n",
            "   ----------------------------------- ---- 34.3/38.8 MB 1.2 MB/s eta 0:00:04\n",
            "   ----------------------------------- ---- 34.9/38.8 MB 1.2 MB/s eta 0:00:04\n",
            "   ------------------------------------ --- 35.1/38.8 MB 1.2 MB/s eta 0:00:03\n",
            "   ------------------------------------ --- 35.7/38.8 MB 1.2 MB/s eta 0:00:03\n",
            "   ------------------------------------- -- 35.9/38.8 MB 1.2 MB/s eta 0:00:03\n",
            "   ------------------------------------- -- 36.4/38.8 MB 1.3 MB/s eta 0:00:02\n",
            "   ------------------------------------- -- 36.7/38.8 MB 1.3 MB/s eta 0:00:02\n",
            "   -------------------------------------- - 37.0/38.8 MB 1.3 MB/s eta 0:00:02\n",
            "   -------------------------------------- - 37.0/38.8 MB 1.3 MB/s eta 0:00:02\n",
            "   -------------------------------------- - 37.5/38.8 MB 1.3 MB/s eta 0:00:02\n",
            "   ---------------------------------------  38.0/38.8 MB 1.3 MB/s eta 0:00:01\n",
            "   ---------------------------------------  38.5/38.8 MB 1.3 MB/s eta 0:00:01\n",
            "   ---------------------------------------- 38.8/38.8 MB 1.3 MB/s eta 0:00:00\n",
            "Downloading pi_heif-1.1.0-cp313-cp313-win_amd64.whl (1.9 MB)\n",
            "   ---------------------------------------- 0.0/1.9 MB ? eta -:--:--\n",
            "   ----- ---------------------------------- 0.3/1.9 MB ? eta -:--:--\n",
            "   ----------- ---------------------------- 0.5/1.9 MB 2.0 MB/s eta 0:00:01\n",
            "   ---------------------- ----------------- 1.0/1.9 MB 2.1 MB/s eta 0:00:01\n",
            "   --------------------------- ------------ 1.3/1.9 MB 2.0 MB/s eta 0:00:01\n",
            "   --------------------------------- ------ 1.6/1.9 MB 1.6 MB/s eta 0:00:01\n",
            "   -------------------------------------- - 1.8/1.9 MB 1.6 MB/s eta 0:00:01\n",
            "   ---------------------------------------- 1.9/1.9 MB 1.3 MB/s eta 0:00:00\n",
            "Downloading pillow_avif_plugin-1.5.2-cp313-cp313-win_amd64.whl (9.9 MB)\n",
            "   ---------------------------------------- 0.0/9.9 MB ? eta -:--:--\n",
            "   ---------------------------------------- 0.0/9.9 MB ? eta -:--:--\n",
            "   - -------------------------------------- 0.3/9.9 MB ? eta -:--:--\n",
            "   - -------------------------------------- 0.3/9.9 MB ? eta -:--:--\n",
            "   - -------------------------------------- 0.3/9.9 MB ? eta -:--:--\n",
            "   -- ------------------------------------- 0.5/9.9 MB 330.3 kB/s eta 0:00:29\n",
            "   -- ------------------------------------- 0.5/9.9 MB 330.3 kB/s eta 0:00:29\n",
            "   --- ------------------------------------ 0.8/9.9 MB 436.4 kB/s eta 0:00:21\n",
            "   ---- ----------------------------------- 1.0/9.9 MB 569.0 kB/s eta 0:00:16\n",
            "   ----- ---------------------------------- 1.3/9.9 MB 655.2 kB/s eta 0:00:14\n",
            "   ------ --------------------------------- 1.6/9.9 MB 739.9 kB/s eta 0:00:12\n",
            "   ------- -------------------------------- 1.8/9.9 MB 783.4 kB/s eta 0:00:11\n",
            "   -------- ------------------------------- 2.1/9.9 MB 851.1 kB/s eta 0:00:10\n",
            "   ---------- ----------------------------- 2.6/9.9 MB 978.4 kB/s eta 0:00:08\n",
            "   ----------- ---------------------------- 2.9/9.9 MB 1.0 MB/s eta 0:00:07\n",
            "   ------------ --------------------------- 3.1/9.9 MB 1.1 MB/s eta 0:00:07\n",
            "   -------------- ------------------------- 3.7/9.9 MB 1.1 MB/s eta 0:00:06\n",
            "   ----------------- ---------------------- 4.2/9.9 MB 1.2 MB/s eta 0:00:05\n",
            "   ------------------ --------------------- 4.5/9.9 MB 1.2 MB/s eta 0:00:05\n",
            "   -------------------- ------------------- 5.0/9.9 MB 1.3 MB/s eta 0:00:04\n",
            "   --------------------- ------------------ 5.2/9.9 MB 1.3 MB/s eta 0:00:04\n",
            "   ---------------------- ----------------- 5.5/9.9 MB 1.3 MB/s eta 0:00:04\n",
            "   ----------------------- ---------------- 5.8/9.9 MB 1.3 MB/s eta 0:00:04\n",
            "   ------------------------ --------------- 6.0/9.9 MB 1.3 MB/s eta 0:00:03\n",
            "   ------------------------- -------------- 6.3/9.9 MB 1.3 MB/s eta 0:00:03\n",
            "   --------------------------- ------------ 6.8/9.9 MB 1.4 MB/s eta 0:00:03\n",
            "   ----------------------------- ---------- 7.3/9.9 MB 1.4 MB/s eta 0:00:02\n",
            "   ------------------------------- -------- 7.9/9.9 MB 1.4 MB/s eta 0:00:02\n",
            "   ---------------------------------- ----- 8.4/9.9 MB 1.5 MB/s eta 0:00:02\n",
            "   ----------------------------------- ---- 8.7/9.9 MB 1.5 MB/s eta 0:00:01\n",
            "   ------------------------------------ --- 8.9/9.9 MB 1.5 MB/s eta 0:00:01\n",
            "   ------------------------------------- -- 9.2/9.9 MB 1.5 MB/s eta 0:00:01\n",
            "   ---------------------------------------  9.7/9.9 MB 1.5 MB/s eta 0:00:01\n",
            "   ---------------------------------------- 9.9/9.9 MB 1.5 MB/s eta 0:00:00\n",
            "Downloading filetype-1.2.0-py2.py3-none-any.whl (19 kB)\n",
            "Downloading requests_toolbelt-1.0.0-py2.py3-none-any.whl (54 kB)\n",
            "Installing collected packages: pillow-avif-plugin, filetype, pi-heif, opencv-python-headless, idna, requests-toolbelt, roboflow\n",
            "\n",
            "   ----- ---------------------------------- 1/7 [filetype]\n",
            "   ----------- ---------------------------- 2/7 [pi-heif]\n",
            "  Attempting uninstall: opencv-python-headless\n",
            "   ----------- ---------------------------- 2/7 [pi-heif]\n",
            "    Found existing installation: opencv-python-headless 4.11.0.86\n",
            "   ----------- ---------------------------- 2/7 [pi-heif]\n",
            "    Uninstalling opencv-python-headless-4.11.0.86:\n",
            "   ----------- ---------------------------- 2/7 [pi-heif]\n",
            "      Successfully uninstalled opencv-python-headless-4.11.0.86\n",
            "   ----------- ---------------------------- 2/7 [pi-heif]\n",
            "   ----------------- ---------------------- 3/7 [opencv-python-headless]\n",
            "   ----------------- ---------------------- 3/7 [opencv-python-headless]\n",
            "   ----------------- ---------------------- 3/7 [opencv-python-headless]\n",
            "   ----------------- ---------------------- 3/7 [opencv-python-headless]\n",
            "  Attempting uninstall: idna\n",
            "   ----------------- ---------------------- 3/7 [opencv-python-headless]\n",
            "    Found existing installation: idna 3.10\n",
            "   ----------------- ---------------------- 3/7 [opencv-python-headless]\n",
            "    Uninstalling idna-3.10:\n",
            "   ----------------- ---------------------- 3/7 [opencv-python-headless]\n",
            "      Successfully uninstalled idna-3.10\n",
            "   ----------------- ---------------------- 3/7 [opencv-python-headless]\n",
            "   ---------------------- ----------------- 4/7 [idna]\n",
            "   ---------------------------- ----------- 5/7 [requests-toolbelt]\n",
            "   ---------------------------------- ----- 6/7 [roboflow]\n",
            "   ---------------------------------- ----- 6/7 [roboflow]\n",
            "   ---------------------------------- ----- 6/7 [roboflow]\n",
            "   ---------------------------------------- 7/7 [roboflow]\n",
            "\n",
            "Successfully installed filetype-1.2.0 idna-3.7 opencv-python-headless-4.10.0.84 pi-heif-1.1.0 pillow-avif-plugin-1.5.2 requests-toolbelt-1.0.0 roboflow-1.2.6\n"
          ]
        },
        {
          "name": "stderr",
          "output_type": "stream",
          "text": [
            "\n",
            "[notice] A new release of pip is available: 25.1.1 -> 25.2\n",
            "[notice] To update, run: python.exe -m pip install --upgrade pip\n"
          ]
        },
        {
          "name": "stdout",
          "output_type": "stream",
          "text": [
            "loading Roboflow workspace...\n",
            "loading Roboflow project...\n"
          ]
        },
        {
          "name": "stderr",
          "output_type": "stream",
          "text": [
            "Downloading Dataset Version Zip in data-primer-2-9 to yolov11::  52%|█████▏    | 58096/112773 [00:51<00:48, 1133.74it/s]\n"
          ]
        },
        {
          "ename": "KeyboardInterrupt",
          "evalue": "",
          "output_type": "error",
          "traceback": [
            "\u001b[31m---------------------------------------------------------------------------\u001b[39m",
            "\u001b[31mKeyboardInterrupt\u001b[39m                         Traceback (most recent call last)",
            "\u001b[36mCell\u001b[39m\u001b[36m \u001b[39m\u001b[32mIn[1]\u001b[39m\u001b[32m, line 8\u001b[39m\n\u001b[32m      6\u001b[39m project = rf.workspace(\u001b[33m\"\u001b[39m\u001b[33mskripsi2-1r20w\u001b[39m\u001b[33m\"\u001b[39m).project(\u001b[33m\"\u001b[39m\u001b[33mdata-primer-2\u001b[39m\u001b[33m\"\u001b[39m)\n\u001b[32m      7\u001b[39m version = project.version(\u001b[32m9\u001b[39m)\n\u001b[32m----> \u001b[39m\u001b[32m8\u001b[39m dataset = \u001b[43mversion\u001b[49m\u001b[43m.\u001b[49m\u001b[43mdownload\u001b[49m\u001b[43m(\u001b[49m\u001b[33;43m\"\u001b[39;49m\u001b[33;43myolov11\u001b[39;49m\u001b[33;43m\"\u001b[39;49m\u001b[43m)\u001b[49m\n",
            "\u001b[36mFile \u001b[39m\u001b[32mc:\\Users\\Abdul\\AppData\\Local\\Programs\\Lib\\site-packages\\roboflow\\core\\version.py:241\u001b[39m, in \u001b[36mVersion.download\u001b[39m\u001b[34m(self, model_format, location, overwrite)\u001b[39m\n\u001b[32m    237\u001b[39m         \u001b[38;5;28;01mraise\u001b[39;00m \u001b[38;5;167;01mRuntimeError\u001b[39;00m(export_info)\n\u001b[32m    239\u001b[39m     link = export_info[\u001b[33m\"\u001b[39m\u001b[33mexport\u001b[39m\u001b[33m\"\u001b[39m][\u001b[33m\"\u001b[39m\u001b[33mlink\u001b[39m\u001b[33m\"\u001b[39m]\n\u001b[32m--> \u001b[39m\u001b[32m241\u001b[39m \u001b[38;5;28;43mself\u001b[39;49m\u001b[43m.\u001b[49m\u001b[43m__download_zip\u001b[49m\u001b[43m(\u001b[49m\u001b[43mlink\u001b[49m\u001b[43m,\u001b[49m\u001b[43m \u001b[49m\u001b[43mlocation\u001b[49m\u001b[43m,\u001b[49m\u001b[43m \u001b[49m\u001b[43mmodel_format\u001b[49m\u001b[43m)\u001b[49m\n\u001b[32m    242\u001b[39m \u001b[38;5;28mself\u001b[39m.__extract_zip(location, model_format)\n\u001b[32m    243\u001b[39m \u001b[38;5;28mself\u001b[39m.__reformat_yaml(location, model_format)  \u001b[38;5;66;03m# TODO: is roboflow-python a place to be munging yaml files?\u001b[39;00m\n",
            "\u001b[36mFile \u001b[39m\u001b[32mc:\\Users\\Abdul\\AppData\\Local\\Programs\\Lib\\site-packages\\roboflow\\core\\version.py:555\u001b[39m, in \u001b[36mVersion.__download_zip\u001b[39m\u001b[34m(self, link, location, format)\u001b[39m\n\u001b[32m    553\u001b[39m total_length = \u001b[38;5;28mint\u001b[39m(response.headers.get(\u001b[33m\"\u001b[39m\u001b[33mcontent-length\u001b[39m\u001b[33m\"\u001b[39m))  \u001b[38;5;66;03m# type: ignore[arg-type]\u001b[39;00m\n\u001b[32m    554\u001b[39m desc = \u001b[38;5;28;01mNone\u001b[39;00m \u001b[38;5;28;01mif\u001b[39;00m TQDM_DISABLE \u001b[38;5;28;01melse\u001b[39;00m \u001b[33mf\u001b[39m\u001b[33m\"\u001b[39m\u001b[33mDownloading Dataset Version Zip in \u001b[39m\u001b[38;5;132;01m{\u001b[39;00mlocation\u001b[38;5;132;01m}\u001b[39;00m\u001b[33m to \u001b[39m\u001b[38;5;132;01m{\u001b[39;00m\u001b[38;5;28mformat\u001b[39m\u001b[38;5;132;01m}\u001b[39;00m\u001b[33m:\u001b[39m\u001b[33m\"\u001b[39m\n\u001b[32m--> \u001b[39m\u001b[32m555\u001b[39m \u001b[43m\u001b[49m\u001b[38;5;28;43;01mfor\u001b[39;49;00m\u001b[43m \u001b[49m\u001b[43mchunk\u001b[49m\u001b[43m \u001b[49m\u001b[38;5;129;43;01min\u001b[39;49;00m\u001b[43m \u001b[49m\u001b[43mtqdm\u001b[49m\u001b[43m(\u001b[49m\n\u001b[32m    556\u001b[39m \u001b[43m    \u001b[49m\u001b[43mresponse\u001b[49m\u001b[43m.\u001b[49m\u001b[43miter_content\u001b[49m\u001b[43m(\u001b[49m\u001b[43mchunk_size\u001b[49m\u001b[43m=\u001b[49m\u001b[32;43m1024\u001b[39;49m\u001b[43m)\u001b[49m\u001b[43m,\u001b[49m\n\u001b[32m    557\u001b[39m \u001b[43m    \u001b[49m\u001b[43mdesc\u001b[49m\u001b[43m=\u001b[49m\u001b[43mdesc\u001b[49m\u001b[43m,\u001b[49m\n\u001b[32m    558\u001b[39m \u001b[43m    \u001b[49m\u001b[43mtotal\u001b[49m\u001b[43m=\u001b[49m\u001b[38;5;28;43mint\u001b[39;49m\u001b[43m(\u001b[49m\u001b[43mtotal_length\u001b[49m\u001b[43m \u001b[49m\u001b[43m/\u001b[49m\u001b[43m \u001b[49m\u001b[32;43m1024\u001b[39;49m\u001b[43m)\u001b[49m\u001b[43m \u001b[49m\u001b[43m+\u001b[49m\u001b[43m \u001b[49m\u001b[32;43m1\u001b[39;49m\u001b[43m,\u001b[49m\n\u001b[32m    559\u001b[39m \u001b[43m\u001b[49m\u001b[43m)\u001b[49m\u001b[43m:\u001b[49m\n\u001b[32m    560\u001b[39m \u001b[43m    \u001b[49m\u001b[38;5;28;43;01mif\u001b[39;49;00m\u001b[43m \u001b[49m\u001b[43mchunk\u001b[49m\u001b[43m:\u001b[49m\n\u001b[32m    561\u001b[39m \u001b[43m        \u001b[49m\u001b[43mf\u001b[49m\u001b[43m.\u001b[49m\u001b[43mwrite\u001b[49m\u001b[43m(\u001b[49m\u001b[43mchunk\u001b[49m\u001b[43m)\u001b[49m\n",
            "\u001b[36mFile \u001b[39m\u001b[32mc:\\Users\\Abdul\\AppData\\Local\\Programs\\Lib\\site-packages\\tqdm\\std.py:1181\u001b[39m, in \u001b[36mtqdm.__iter__\u001b[39m\u001b[34m(self)\u001b[39m\n\u001b[32m   1178\u001b[39m time = \u001b[38;5;28mself\u001b[39m._time\n\u001b[32m   1180\u001b[39m \u001b[38;5;28;01mtry\u001b[39;00m:\n\u001b[32m-> \u001b[39m\u001b[32m1181\u001b[39m \u001b[43m    \u001b[49m\u001b[38;5;28;43;01mfor\u001b[39;49;00m\u001b[43m \u001b[49m\u001b[43mobj\u001b[49m\u001b[43m \u001b[49m\u001b[38;5;129;43;01min\u001b[39;49;00m\u001b[43m \u001b[49m\u001b[43miterable\u001b[49m\u001b[43m:\u001b[49m\n\u001b[32m   1182\u001b[39m \u001b[43m        \u001b[49m\u001b[38;5;28;43;01myield\u001b[39;49;00m\u001b[43m \u001b[49m\u001b[43mobj\u001b[49m\n\u001b[32m   1183\u001b[39m \u001b[43m        \u001b[49m\u001b[38;5;66;43;03m# Update and possibly print the progressbar.\u001b[39;49;00m\n\u001b[32m   1184\u001b[39m \u001b[43m        \u001b[49m\u001b[38;5;66;43;03m# Note: does not call self.update(1) for speed optimisation.\u001b[39;49;00m\n",
            "\u001b[36mFile \u001b[39m\u001b[32mc:\\Users\\Abdul\\AppData\\Local\\Programs\\Lib\\site-packages\\requests\\models.py:820\u001b[39m, in \u001b[36mResponse.iter_content.<locals>.generate\u001b[39m\u001b[34m()\u001b[39m\n\u001b[32m    818\u001b[39m \u001b[38;5;28;01mif\u001b[39;00m \u001b[38;5;28mhasattr\u001b[39m(\u001b[38;5;28mself\u001b[39m.raw, \u001b[33m\"\u001b[39m\u001b[33mstream\u001b[39m\u001b[33m\"\u001b[39m):\n\u001b[32m    819\u001b[39m     \u001b[38;5;28;01mtry\u001b[39;00m:\n\u001b[32m--> \u001b[39m\u001b[32m820\u001b[39m         \u001b[38;5;28;01myield from\u001b[39;00m \u001b[38;5;28mself\u001b[39m.raw.stream(chunk_size, decode_content=\u001b[38;5;28;01mTrue\u001b[39;00m)\n\u001b[32m    821\u001b[39m     \u001b[38;5;28;01mexcept\u001b[39;00m ProtocolError \u001b[38;5;28;01mas\u001b[39;00m e:\n\u001b[32m    822\u001b[39m         \u001b[38;5;28;01mraise\u001b[39;00m ChunkedEncodingError(e)\n",
            "\u001b[36mFile \u001b[39m\u001b[32mc:\\Users\\Abdul\\AppData\\Local\\Programs\\Lib\\site-packages\\urllib3\\response.py:1066\u001b[39m, in \u001b[36mHTTPResponse.stream\u001b[39m\u001b[34m(self, amt, decode_content)\u001b[39m\n\u001b[32m   1064\u001b[39m \u001b[38;5;28;01melse\u001b[39;00m:\n\u001b[32m   1065\u001b[39m     \u001b[38;5;28;01mwhile\u001b[39;00m \u001b[38;5;129;01mnot\u001b[39;00m is_fp_closed(\u001b[38;5;28mself\u001b[39m._fp) \u001b[38;5;129;01mor\u001b[39;00m \u001b[38;5;28mlen\u001b[39m(\u001b[38;5;28mself\u001b[39m._decoded_buffer) > \u001b[32m0\u001b[39m:\n\u001b[32m-> \u001b[39m\u001b[32m1066\u001b[39m         data = \u001b[38;5;28;43mself\u001b[39;49m\u001b[43m.\u001b[49m\u001b[43mread\u001b[49m\u001b[43m(\u001b[49m\u001b[43mamt\u001b[49m\u001b[43m=\u001b[49m\u001b[43mamt\u001b[49m\u001b[43m,\u001b[49m\u001b[43m \u001b[49m\u001b[43mdecode_content\u001b[49m\u001b[43m=\u001b[49m\u001b[43mdecode_content\u001b[49m\u001b[43m)\u001b[49m\n\u001b[32m   1068\u001b[39m         \u001b[38;5;28;01mif\u001b[39;00m data:\n\u001b[32m   1069\u001b[39m             \u001b[38;5;28;01myield\u001b[39;00m data\n",
            "\u001b[36mFile \u001b[39m\u001b[32mc:\\Users\\Abdul\\AppData\\Local\\Programs\\Lib\\site-packages\\urllib3\\response.py:955\u001b[39m, in \u001b[36mHTTPResponse.read\u001b[39m\u001b[34m(self, amt, decode_content, cache_content)\u001b[39m\n\u001b[32m    952\u001b[39m     \u001b[38;5;28;01mif\u001b[39;00m \u001b[38;5;28mlen\u001b[39m(\u001b[38;5;28mself\u001b[39m._decoded_buffer) >= amt:\n\u001b[32m    953\u001b[39m         \u001b[38;5;28;01mreturn\u001b[39;00m \u001b[38;5;28mself\u001b[39m._decoded_buffer.get(amt)\n\u001b[32m--> \u001b[39m\u001b[32m955\u001b[39m data = \u001b[38;5;28;43mself\u001b[39;49m\u001b[43m.\u001b[49m\u001b[43m_raw_read\u001b[49m\u001b[43m(\u001b[49m\u001b[43mamt\u001b[49m\u001b[43m)\u001b[49m\n\u001b[32m    957\u001b[39m flush_decoder = amt \u001b[38;5;129;01mis\u001b[39;00m \u001b[38;5;28;01mNone\u001b[39;00m \u001b[38;5;129;01mor\u001b[39;00m (amt != \u001b[32m0\u001b[39m \u001b[38;5;129;01mand\u001b[39;00m \u001b[38;5;129;01mnot\u001b[39;00m data)\n\u001b[32m    959\u001b[39m \u001b[38;5;28;01mif\u001b[39;00m \u001b[38;5;129;01mnot\u001b[39;00m data \u001b[38;5;129;01mand\u001b[39;00m \u001b[38;5;28mlen\u001b[39m(\u001b[38;5;28mself\u001b[39m._decoded_buffer) == \u001b[32m0\u001b[39m:\n",
            "\u001b[36mFile \u001b[39m\u001b[32mc:\\Users\\Abdul\\AppData\\Local\\Programs\\Lib\\site-packages\\urllib3\\response.py:879\u001b[39m, in \u001b[36mHTTPResponse._raw_read\u001b[39m\u001b[34m(self, amt, read1)\u001b[39m\n\u001b[32m    876\u001b[39m fp_closed = \u001b[38;5;28mgetattr\u001b[39m(\u001b[38;5;28mself\u001b[39m._fp, \u001b[33m\"\u001b[39m\u001b[33mclosed\u001b[39m\u001b[33m\"\u001b[39m, \u001b[38;5;28;01mFalse\u001b[39;00m)\n\u001b[32m    878\u001b[39m \u001b[38;5;28;01mwith\u001b[39;00m \u001b[38;5;28mself\u001b[39m._error_catcher():\n\u001b[32m--> \u001b[39m\u001b[32m879\u001b[39m     data = \u001b[38;5;28;43mself\u001b[39;49m\u001b[43m.\u001b[49m\u001b[43m_fp_read\u001b[49m\u001b[43m(\u001b[49m\u001b[43mamt\u001b[49m\u001b[43m,\u001b[49m\u001b[43m \u001b[49m\u001b[43mread1\u001b[49m\u001b[43m=\u001b[49m\u001b[43mread1\u001b[49m\u001b[43m)\u001b[49m \u001b[38;5;28;01mif\u001b[39;00m \u001b[38;5;129;01mnot\u001b[39;00m fp_closed \u001b[38;5;28;01melse\u001b[39;00m \u001b[33mb\u001b[39m\u001b[33m\"\u001b[39m\u001b[33m\"\u001b[39m\n\u001b[32m    880\u001b[39m     \u001b[38;5;28;01mif\u001b[39;00m amt \u001b[38;5;129;01mis\u001b[39;00m \u001b[38;5;129;01mnot\u001b[39;00m \u001b[38;5;28;01mNone\u001b[39;00m \u001b[38;5;129;01mand\u001b[39;00m amt != \u001b[32m0\u001b[39m \u001b[38;5;129;01mand\u001b[39;00m \u001b[38;5;129;01mnot\u001b[39;00m data:\n\u001b[32m    881\u001b[39m         \u001b[38;5;66;03m# Platform-specific: Buggy versions of Python.\u001b[39;00m\n\u001b[32m    882\u001b[39m         \u001b[38;5;66;03m# Close the connection when no data is returned\u001b[39;00m\n\u001b[32m   (...)\u001b[39m\u001b[32m    887\u001b[39m         \u001b[38;5;66;03m# not properly close the connection in all cases. There is\u001b[39;00m\n\u001b[32m    888\u001b[39m         \u001b[38;5;66;03m# no harm in redundantly calling close.\u001b[39;00m\n\u001b[32m    889\u001b[39m         \u001b[38;5;28mself\u001b[39m._fp.close()\n",
            "\u001b[36mFile \u001b[39m\u001b[32mc:\\Users\\Abdul\\AppData\\Local\\Programs\\Lib\\site-packages\\urllib3\\response.py:862\u001b[39m, in \u001b[36mHTTPResponse._fp_read\u001b[39m\u001b[34m(self, amt, read1)\u001b[39m\n\u001b[32m    859\u001b[39m     \u001b[38;5;28;01mreturn\u001b[39;00m \u001b[38;5;28mself\u001b[39m._fp.read1(amt) \u001b[38;5;28;01mif\u001b[39;00m amt \u001b[38;5;129;01mis\u001b[39;00m \u001b[38;5;129;01mnot\u001b[39;00m \u001b[38;5;28;01mNone\u001b[39;00m \u001b[38;5;28;01melse\u001b[39;00m \u001b[38;5;28mself\u001b[39m._fp.read1()\n\u001b[32m    860\u001b[39m \u001b[38;5;28;01melse\u001b[39;00m:\n\u001b[32m    861\u001b[39m     \u001b[38;5;66;03m# StringIO doesn't like amt=None\u001b[39;00m\n\u001b[32m--> \u001b[39m\u001b[32m862\u001b[39m     \u001b[38;5;28;01mreturn\u001b[39;00m \u001b[38;5;28;43mself\u001b[39;49m\u001b[43m.\u001b[49m\u001b[43m_fp\u001b[49m\u001b[43m.\u001b[49m\u001b[43mread\u001b[49m\u001b[43m(\u001b[49m\u001b[43mamt\u001b[49m\u001b[43m)\u001b[49m \u001b[38;5;28;01mif\u001b[39;00m amt \u001b[38;5;129;01mis\u001b[39;00m \u001b[38;5;129;01mnot\u001b[39;00m \u001b[38;5;28;01mNone\u001b[39;00m \u001b[38;5;28;01melse\u001b[39;00m \u001b[38;5;28mself\u001b[39m._fp.read()\n",
            "\u001b[36mFile \u001b[39m\u001b[32mc:\\Users\\Abdul\\AppData\\Local\\Programs\\Lib\\http\\client.py:479\u001b[39m, in \u001b[36mHTTPResponse.read\u001b[39m\u001b[34m(self, amt)\u001b[39m\n\u001b[32m    476\u001b[39m \u001b[38;5;28;01mif\u001b[39;00m \u001b[38;5;28mself\u001b[39m.length \u001b[38;5;129;01mis\u001b[39;00m \u001b[38;5;129;01mnot\u001b[39;00m \u001b[38;5;28;01mNone\u001b[39;00m \u001b[38;5;129;01mand\u001b[39;00m amt > \u001b[38;5;28mself\u001b[39m.length:\n\u001b[32m    477\u001b[39m     \u001b[38;5;66;03m# clip the read to the \"end of response\"\u001b[39;00m\n\u001b[32m    478\u001b[39m     amt = \u001b[38;5;28mself\u001b[39m.length\n\u001b[32m--> \u001b[39m\u001b[32m479\u001b[39m s = \u001b[38;5;28;43mself\u001b[39;49m\u001b[43m.\u001b[49m\u001b[43mfp\u001b[49m\u001b[43m.\u001b[49m\u001b[43mread\u001b[49m\u001b[43m(\u001b[49m\u001b[43mamt\u001b[49m\u001b[43m)\u001b[49m\n\u001b[32m    480\u001b[39m \u001b[38;5;28;01mif\u001b[39;00m \u001b[38;5;129;01mnot\u001b[39;00m s \u001b[38;5;129;01mand\u001b[39;00m amt:\n\u001b[32m    481\u001b[39m     \u001b[38;5;66;03m# Ideally, we would raise IncompleteRead if the content-length\u001b[39;00m\n\u001b[32m    482\u001b[39m     \u001b[38;5;66;03m# wasn't satisfied, but it might break compatibility.\u001b[39;00m\n\u001b[32m    483\u001b[39m     \u001b[38;5;28mself\u001b[39m._close_conn()\n",
            "\u001b[36mFile \u001b[39m\u001b[32mc:\\Users\\Abdul\\AppData\\Local\\Programs\\Lib\\socket.py:719\u001b[39m, in \u001b[36mSocketIO.readinto\u001b[39m\u001b[34m(self, b)\u001b[39m\n\u001b[32m    717\u001b[39m     \u001b[38;5;28;01mraise\u001b[39;00m \u001b[38;5;167;01mOSError\u001b[39;00m(\u001b[33m\"\u001b[39m\u001b[33mcannot read from timed out object\u001b[39m\u001b[33m\"\u001b[39m)\n\u001b[32m    718\u001b[39m \u001b[38;5;28;01mtry\u001b[39;00m:\n\u001b[32m--> \u001b[39m\u001b[32m719\u001b[39m     \u001b[38;5;28;01mreturn\u001b[39;00m \u001b[38;5;28;43mself\u001b[39;49m\u001b[43m.\u001b[49m\u001b[43m_sock\u001b[49m\u001b[43m.\u001b[49m\u001b[43mrecv_into\u001b[49m\u001b[43m(\u001b[49m\u001b[43mb\u001b[49m\u001b[43m)\u001b[49m\n\u001b[32m    720\u001b[39m \u001b[38;5;28;01mexcept\u001b[39;00m timeout:\n\u001b[32m    721\u001b[39m     \u001b[38;5;28mself\u001b[39m._timeout_occurred = \u001b[38;5;28;01mTrue\u001b[39;00m\n",
            "\u001b[36mFile \u001b[39m\u001b[32mc:\\Users\\Abdul\\AppData\\Local\\Programs\\Lib\\ssl.py:1304\u001b[39m, in \u001b[36mSSLSocket.recv_into\u001b[39m\u001b[34m(self, buffer, nbytes, flags)\u001b[39m\n\u001b[32m   1300\u001b[39m     \u001b[38;5;28;01mif\u001b[39;00m flags != \u001b[32m0\u001b[39m:\n\u001b[32m   1301\u001b[39m         \u001b[38;5;28;01mraise\u001b[39;00m \u001b[38;5;167;01mValueError\u001b[39;00m(\n\u001b[32m   1302\u001b[39m           \u001b[33m\"\u001b[39m\u001b[33mnon-zero flags not allowed in calls to recv_into() on \u001b[39m\u001b[38;5;132;01m%s\u001b[39;00m\u001b[33m\"\u001b[39m %\n\u001b[32m   1303\u001b[39m           \u001b[38;5;28mself\u001b[39m.\u001b[34m__class__\u001b[39m)\n\u001b[32m-> \u001b[39m\u001b[32m1304\u001b[39m     \u001b[38;5;28;01mreturn\u001b[39;00m \u001b[38;5;28;43mself\u001b[39;49m\u001b[43m.\u001b[49m\u001b[43mread\u001b[49m\u001b[43m(\u001b[49m\u001b[43mnbytes\u001b[49m\u001b[43m,\u001b[49m\u001b[43m \u001b[49m\u001b[43mbuffer\u001b[49m\u001b[43m)\u001b[49m\n\u001b[32m   1305\u001b[39m \u001b[38;5;28;01melse\u001b[39;00m:\n\u001b[32m   1306\u001b[39m     \u001b[38;5;28;01mreturn\u001b[39;00m \u001b[38;5;28msuper\u001b[39m().recv_into(buffer, nbytes, flags)\n",
            "\u001b[36mFile \u001b[39m\u001b[32mc:\\Users\\Abdul\\AppData\\Local\\Programs\\Lib\\ssl.py:1138\u001b[39m, in \u001b[36mSSLSocket.read\u001b[39m\u001b[34m(self, len, buffer)\u001b[39m\n\u001b[32m   1136\u001b[39m \u001b[38;5;28;01mtry\u001b[39;00m:\n\u001b[32m   1137\u001b[39m     \u001b[38;5;28;01mif\u001b[39;00m buffer \u001b[38;5;129;01mis\u001b[39;00m \u001b[38;5;129;01mnot\u001b[39;00m \u001b[38;5;28;01mNone\u001b[39;00m:\n\u001b[32m-> \u001b[39m\u001b[32m1138\u001b[39m         \u001b[38;5;28;01mreturn\u001b[39;00m \u001b[38;5;28;43mself\u001b[39;49m\u001b[43m.\u001b[49m\u001b[43m_sslobj\u001b[49m\u001b[43m.\u001b[49m\u001b[43mread\u001b[49m\u001b[43m(\u001b[49m\u001b[38;5;28;43mlen\u001b[39;49m\u001b[43m,\u001b[49m\u001b[43m \u001b[49m\u001b[43mbuffer\u001b[49m\u001b[43m)\u001b[49m\n\u001b[32m   1139\u001b[39m     \u001b[38;5;28;01melse\u001b[39;00m:\n\u001b[32m   1140\u001b[39m         \u001b[38;5;28;01mreturn\u001b[39;00m \u001b[38;5;28mself\u001b[39m._sslobj.read(\u001b[38;5;28mlen\u001b[39m)\n",
            "\u001b[31mKeyboardInterrupt\u001b[39m: "
          ]
        }
      ],
      "source": [
        " !pip install roboflow\n",
        "\n",
        " from roboflow import Roboflow\n",
        " rf = Roboflow(api_key=\"Xb68LrQwZS9euhUciOyL\")\n",
        " # https://universe.roboflow.com/skripsi2-1r20w/data-primer-2\n",
        " project = rf.workspace(\"skripsi2-1r20w\").project(\"data-primer-2\")\n",
        " version = project.version(9)\n",
        " dataset = version.download(\"yolov11\")"
      ]
    },
    {
      "cell_type": "code",
      "execution_count": 3,
      "metadata": {
        "colab": {
          "base_uri": "https://localhost:8080/"
        },
        "id": "r1Bv--NzTbUX",
        "outputId": "273fc484-3e45-42a6-d96f-2989e207d7b1"
      },
      "outputs": [
        {
          "name": "stdout",
          "output_type": "stream",
          "text": [
            "Requirement already satisfied: ultralytics in c:\\users\\abdul\\appdata\\local\\programs\\lib\\site-packages (8.3.146)\n",
            "Requirement already satisfied: numpy>=1.23.0 in c:\\users\\abdul\\appdata\\local\\programs\\lib\\site-packages (from ultralytics) (2.2.4)\n",
            "Requirement already satisfied: matplotlib>=3.3.0 in c:\\users\\abdul\\appdata\\local\\programs\\lib\\site-packages (from ultralytics) (3.10.1)\n",
            "Requirement already satisfied: opencv-python>=4.6.0 in c:\\users\\abdul\\appdata\\local\\programs\\lib\\site-packages (from ultralytics) (4.11.0.86)\n",
            "Requirement already satisfied: pillow>=7.1.2 in c:\\users\\abdul\\appdata\\local\\programs\\lib\\site-packages (from ultralytics) (11.2.0)\n",
            "Requirement already satisfied: pyyaml>=5.3.1 in c:\\users\\abdul\\appdata\\local\\programs\\lib\\site-packages (from ultralytics) (6.0.2)\n",
            "Requirement already satisfied: requests>=2.23.0 in c:\\users\\abdul\\appdata\\local\\programs\\lib\\site-packages (from ultralytics) (2.32.3)\n",
            "Requirement already satisfied: scipy>=1.4.1 in c:\\users\\abdul\\appdata\\local\\programs\\lib\\site-packages (from ultralytics) (1.15.2)\n",
            "Requirement already satisfied: torch>=1.8.0 in c:\\users\\abdul\\appdata\\local\\programs\\lib\\site-packages (from ultralytics) (2.7.0+cu126)\n",
            "Requirement already satisfied: torchvision>=0.9.0 in c:\\users\\abdul\\appdata\\local\\programs\\lib\\site-packages (from ultralytics) (0.22.0+cu126)\n",
            "Requirement already satisfied: tqdm>=4.64.0 in c:\\users\\abdul\\appdata\\local\\programs\\lib\\site-packages (from ultralytics) (4.67.1)\n",
            "Requirement already satisfied: psutil in c:\\users\\abdul\\appdata\\local\\programs\\lib\\site-packages (from ultralytics) (7.0.0)\n",
            "Requirement already satisfied: py-cpuinfo in c:\\users\\abdul\\appdata\\local\\programs\\lib\\site-packages (from ultralytics) (9.0.0)\n",
            "Requirement already satisfied: pandas>=1.1.4 in c:\\users\\abdul\\appdata\\local\\programs\\lib\\site-packages (from ultralytics) (2.2.3)\n",
            "Requirement already satisfied: ultralytics-thop>=2.0.0 in c:\\users\\abdul\\appdata\\local\\programs\\lib\\site-packages (from ultralytics) (2.0.14)\n",
            "Requirement already satisfied: contourpy>=1.0.1 in c:\\users\\abdul\\appdata\\local\\programs\\lib\\site-packages (from matplotlib>=3.3.0->ultralytics) (1.3.1)\n",
            "Requirement already satisfied: cycler>=0.10 in c:\\users\\abdul\\appdata\\local\\programs\\lib\\site-packages (from matplotlib>=3.3.0->ultralytics) (0.12.1)\n",
            "Requirement already satisfied: fonttools>=4.22.0 in c:\\users\\abdul\\appdata\\local\\programs\\lib\\site-packages (from matplotlib>=3.3.0->ultralytics) (4.57.0)\n",
            "Requirement already satisfied: kiwisolver>=1.3.1 in c:\\users\\abdul\\appdata\\local\\programs\\lib\\site-packages (from matplotlib>=3.3.0->ultralytics) (1.4.8)\n",
            "Requirement already satisfied: packaging>=20.0 in c:\\users\\abdul\\appdata\\local\\programs\\lib\\site-packages (from matplotlib>=3.3.0->ultralytics) (24.2)\n",
            "Requirement already satisfied: pyparsing>=2.3.1 in c:\\users\\abdul\\appdata\\local\\programs\\lib\\site-packages (from matplotlib>=3.3.0->ultralytics) (3.2.3)\n",
            "Requirement already satisfied: python-dateutil>=2.7 in c:\\users\\abdul\\appdata\\local\\programs\\lib\\site-packages (from matplotlib>=3.3.0->ultralytics) (2.9.0.post0)\n",
            "Requirement already satisfied: pytz>=2020.1 in c:\\users\\abdul\\appdata\\local\\programs\\lib\\site-packages (from pandas>=1.1.4->ultralytics) (2025.2)\n",
            "Requirement already satisfied: tzdata>=2022.7 in c:\\users\\abdul\\appdata\\local\\programs\\lib\\site-packages (from pandas>=1.1.4->ultralytics) (2025.2)\n",
            "Requirement already satisfied: six>=1.5 in c:\\users\\abdul\\appdata\\local\\programs\\lib\\site-packages (from python-dateutil>=2.7->matplotlib>=3.3.0->ultralytics) (1.17.0)\n",
            "Requirement already satisfied: charset-normalizer<4,>=2 in c:\\users\\abdul\\appdata\\local\\programs\\lib\\site-packages (from requests>=2.23.0->ultralytics) (3.4.1)\n",
            "Requirement already satisfied: idna<4,>=2.5 in c:\\users\\abdul\\appdata\\local\\programs\\lib\\site-packages (from requests>=2.23.0->ultralytics) (3.7)\n",
            "Requirement already satisfied: urllib3<3,>=1.21.1 in c:\\users\\abdul\\appdata\\local\\programs\\lib\\site-packages (from requests>=2.23.0->ultralytics) (2.4.0)\n",
            "Requirement already satisfied: certifi>=2017.4.17 in c:\\users\\abdul\\appdata\\local\\programs\\lib\\site-packages (from requests>=2.23.0->ultralytics) (2025.1.31)\n",
            "Requirement already satisfied: filelock in c:\\users\\abdul\\appdata\\local\\programs\\lib\\site-packages (from torch>=1.8.0->ultralytics) (3.18.0)\n",
            "Requirement already satisfied: typing-extensions>=4.10.0 in c:\\users\\abdul\\appdata\\local\\programs\\lib\\site-packages (from torch>=1.8.0->ultralytics) (4.13.2)\n",
            "Requirement already satisfied: sympy>=1.13.3 in c:\\users\\abdul\\appdata\\local\\programs\\lib\\site-packages (from torch>=1.8.0->ultralytics) (1.14.0)\n",
            "Requirement already satisfied: networkx in c:\\users\\abdul\\appdata\\local\\programs\\lib\\site-packages (from torch>=1.8.0->ultralytics) (3.4.2)\n",
            "Requirement already satisfied: jinja2 in c:\\users\\abdul\\appdata\\local\\programs\\lib\\site-packages (from torch>=1.8.0->ultralytics) (3.1.6)\n",
            "Requirement already satisfied: fsspec in c:\\users\\abdul\\appdata\\local\\programs\\lib\\site-packages (from torch>=1.8.0->ultralytics) (2025.3.0)\n",
            "Requirement already satisfied: setuptools in c:\\users\\abdul\\appdata\\local\\programs\\lib\\site-packages (from torch>=1.8.0->ultralytics) (78.1.0)\n",
            "Requirement already satisfied: mpmath<1.4,>=1.1.0 in c:\\users\\abdul\\appdata\\local\\programs\\lib\\site-packages (from sympy>=1.13.3->torch>=1.8.0->ultralytics) (1.3.0)\n",
            "Requirement already satisfied: colorama in c:\\users\\abdul\\appdata\\local\\programs\\lib\\site-packages (from tqdm>=4.64.0->ultralytics) (0.4.6)\n",
            "Requirement already satisfied: MarkupSafe>=2.0 in c:\\users\\abdul\\appdata\\local\\programs\\lib\\site-packages (from jinja2->torch>=1.8.0->ultralytics) (3.0.2)\n"
          ]
        },
        {
          "name": "stderr",
          "output_type": "stream",
          "text": [
            "\n",
            "[notice] A new release of pip is available: 25.1.1 -> 25.2\n",
            "[notice] To update, run: python.exe -m pip install --upgrade pip\n"
          ]
        }
      ],
      "source": [
        "!pip install ultralytics"
      ]
    },
    {
      "cell_type": "code",
      "execution_count": null,
      "metadata": {
        "colab": {
          "base_uri": "https://localhost:8080/"
        },
        "id": "GnZTvVT9Trvn",
        "outputId": "6e7afbab-6efc-4075-958b-ce074f049fe9"
      },
      "outputs": [
        {
          "name": "stdout",
          "output_type": "stream",
          "text": [
            "Ultralytics 8.3.143 🚀 Python-3.11.12 torch-2.6.0+cu124 CPU (Intel Xeon 2.20GHz)\n",
            "\u001b[34m\u001b[1mengine/trainer: \u001b[0magnostic_nms=False, amp=True, augment=False, auto_augment=randaugment, batch=100, bgr=0.0, box=7.5, cache=False, cfg=None, classes=None, close_mosaic=10, cls=0.5, conf=None, copy_paste=0.0, copy_paste_mode=flip, cos_lr=False, cutmix=0.0, data=/content/data-primer-2-9/data.yaml, degrees=0.0, deterministic=True, device=cpu, dfl=1.5, dnn=False, dropout=0.0, dynamic=False, embed=None, epochs=50, erasing=0.4, exist_ok=True, fliplr=0.5, flipud=0.0, format=torchscript, fraction=1.0, freeze=None, half=False, hsv_h=0.015, hsv_s=0.7, hsv_v=0.4, imgsz=640, int8=False, iou=0.7, keras=False, kobj=1.0, line_width=None, lr0=0.001, lrf=0.01, mask_ratio=4, max_det=300, mixup=0.0, mode=train, model=yolo11n.pt, momentum=0.937, mosaic=1.0, multi_scale=False, name=multiclass_Face_Emotions, nbs=64, nms=False, opset=None, optimize=False, optimizer=auto, overlap_mask=True, patience=100, perspective=0.0, plots=True, pose=12.0, pretrained=True, profile=False, project=yolo-face_emotion_recognition_model, rect=False, resume=False, retina_masks=False, save=True, save_conf=False, save_crop=False, save_dir=yolo-face_emotion_recognition_model/multiclass_Face_Emotions, save_frames=False, save_json=False, save_period=-1, save_txt=False, scale=0.5, seed=0, shear=0.0, show=False, show_boxes=True, show_conf=True, show_labels=True, simplify=True, single_cls=False, source=None, split=val, stream_buffer=False, task=detect, time=None, tracker=botsort.yaml, translate=0.1, val=True, verbose=True, vid_stride=1, visualize=False, warmup_bias_lr=0.1, warmup_epochs=3.0, warmup_momentum=0.8, weight_decay=0.0005, workers=8, workspace=None\n",
            "Overriding model.yaml nc=80 with nc=7\n",
            "\n",
            "                   from  n    params  module                                       arguments                     \n",
            "  0                  -1  1       464  ultralytics.nn.modules.conv.Conv             [3, 16, 3, 2]                 \n",
            "  1                  -1  1      4672  ultralytics.nn.modules.conv.Conv             [16, 32, 3, 2]                \n",
            "  2                  -1  1      6640  ultralytics.nn.modules.block.C3k2            [32, 64, 1, False, 0.25]      \n",
            "  3                  -1  1     36992  ultralytics.nn.modules.conv.Conv             [64, 64, 3, 2]                \n",
            "  4                  -1  1     26080  ultralytics.nn.modules.block.C3k2            [64, 128, 1, False, 0.25]     \n",
            "  5                  -1  1    147712  ultralytics.nn.modules.conv.Conv             [128, 128, 3, 2]              \n",
            "  6                  -1  1     87040  ultralytics.nn.modules.block.C3k2            [128, 128, 1, True]           \n",
            "  7                  -1  1    295424  ultralytics.nn.modules.conv.Conv             [128, 256, 3, 2]              \n",
            "  8                  -1  1    346112  ultralytics.nn.modules.block.C3k2            [256, 256, 1, True]           \n",
            "  9                  -1  1    164608  ultralytics.nn.modules.block.SPPF            [256, 256, 5]                 \n",
            " 10                  -1  1    249728  ultralytics.nn.modules.block.C2PSA           [256, 256, 1]                 \n",
            " 11                  -1  1         0  torch.nn.modules.upsampling.Upsample         [None, 2, 'nearest']          \n",
            " 12             [-1, 6]  1         0  ultralytics.nn.modules.conv.Concat           [1]                           \n",
            " 13                  -1  1    111296  ultralytics.nn.modules.block.C3k2            [384, 128, 1, False]          \n",
            " 14                  -1  1         0  torch.nn.modules.upsampling.Upsample         [None, 2, 'nearest']          \n",
            " 15             [-1, 4]  1         0  ultralytics.nn.modules.conv.Concat           [1]                           \n",
            " 16                  -1  1     32096  ultralytics.nn.modules.block.C3k2            [256, 64, 1, False]           \n",
            " 17                  -1  1     36992  ultralytics.nn.modules.conv.Conv             [64, 64, 3, 2]                \n",
            " 18            [-1, 13]  1         0  ultralytics.nn.modules.conv.Concat           [1]                           \n",
            " 19                  -1  1     86720  ultralytics.nn.modules.block.C3k2            [192, 128, 1, False]          \n",
            " 20                  -1  1    147712  ultralytics.nn.modules.conv.Conv             [128, 128, 3, 2]              \n",
            " 21            [-1, 10]  1         0  ultralytics.nn.modules.conv.Concat           [1]                           \n",
            " 22                  -1  1    378880  ultralytics.nn.modules.block.C3k2            [384, 256, 1, True]           \n",
            " 23        [16, 19, 22]  1    432037  ultralytics.nn.modules.head.Detect           [7, [64, 128, 256]]           \n",
            "YOLO11n summary: 181 layers, 2,591,205 parameters, 2,591,189 gradients, 6.4 GFLOPs\n",
            "\n",
            "Transferred 448/499 items from pretrained weights\n",
            "Freezing layer 'model.23.dfl.conv.weight'\n",
            "\u001b[34m\u001b[1mtrain: \u001b[0mFast image access ✅ (ping: 0.1±0.0 ms, read: 11.7±2.9 MB/s, size: 22.4 KB)\n"
          ]
        },
        {
          "name": "stderr",
          "output_type": "stream",
          "text": [
            "\u001b[34m\u001b[1mtrain: \u001b[0mScanning /content/data-primer-2-9/train/labels.cache... 3502 images, 16 backgrounds, 0 corrupt: 100%|██████████| 3502/3502 [00:00<?, ?it/s]\n"
          ]
        },
        {
          "name": "stdout",
          "output_type": "stream",
          "text": [
            "\u001b[34m\u001b[1malbumentations: \u001b[0mBlur(p=0.01, blur_limit=(3, 7)), MedianBlur(p=0.01, blur_limit=(3, 7)), ToGray(p=0.01, method='weighted_average', num_output_channels=3), CLAHE(p=0.01, clip_limit=(1.0, 4.0), tile_grid_size=(8, 8))\n",
            "\u001b[34m\u001b[1mval: \u001b[0mFast image access ✅ (ping: 0.0±0.0 ms, read: 10.9±1.4 MB/s, size: 24.7 KB)\n"
          ]
        },
        {
          "name": "stderr",
          "output_type": "stream",
          "text": [
            "\u001b[34m\u001b[1mval: \u001b[0mScanning /content/data-primer-2-9/valid/labels.cache... 417 images, 0 backgrounds, 0 corrupt: 100%|██████████| 417/417 [00:00<?, ?it/s]\n"
          ]
        },
        {
          "name": "stdout",
          "output_type": "stream",
          "text": [
            "Plotting labels to yolo-face_emotion_recognition_model/multiclass_Face_Emotions/labels.jpg... \n",
            "\u001b[34m\u001b[1moptimizer:\u001b[0m 'optimizer=auto' found, ignoring 'lr0=0.001' and 'momentum=0.937' and determining best 'optimizer', 'lr0' and 'momentum' automatically... \n",
            "\u001b[34m\u001b[1moptimizer:\u001b[0m AdamW(lr=0.000909, momentum=0.9) with parameter groups 81 weight(decay=0.0), 88 weight(decay=0.00078125), 87 bias(decay=0.0)\n",
            "Image sizes 640 train, 640 val\n",
            "Using 0 dataloader workers\n",
            "Logging results to \u001b[1myolo-face_emotion_recognition_model/multiclass_Face_Emotions\u001b[0m\n",
            "Starting training for 50 epochs...\n",
            "\n",
            "      Epoch    GPU_mem   box_loss   cls_loss   dfl_loss  Instances       Size\n"
          ]
        },
        {
          "name": "stderr",
          "output_type": "stream",
          "text": [
            "\r  0%|          | 0/36 [00:00<?, ?it/s]"
          ]
        }
      ],
      "source": [
        "from ultralytics import YOLO\n",
        "\n",
        "model = YOLO(\"yolo11n.pt\")  # or \"yolo11n.pt\" if you're using YOLOv11-compatible models\n",
        "\n",
        "model.train(\n",
        "    data=dataset.location + \"/data.yaml\",  # auto-downloaded by Roboflow\n",
        "    epochs=50,\n",
        "    imgsz=640,\n",
        "    batch=100,\n",
        "    lr0=0.001,  # correct param\n",
        "    project=\"yolo-face_emotion_recognition_model\",\n",
        "    name=\"multiclass_Face_Emotions\",\n",
        "    exist_ok=True\n",
        ")"
      ]
    },
    {
      "cell_type": "code",
      "execution_count": 4,
      "metadata": {
        "id": "8pbRr5pXcOhp"
      },
      "outputs": [
        {
          "name": "stdout",
          "output_type": "stream",
          "text": [
            "Requirement already satisfied: ultralytics in c:\\users\\abdul\\appdata\\local\\programs\\lib\\site-packages (8.3.146)\n",
            "Requirement already satisfied: opencv-python in c:\\users\\abdul\\appdata\\local\\programs\\lib\\site-packages (4.11.0.86)\n",
            "Requirement already satisfied: numpy>=1.23.0 in c:\\users\\abdul\\appdata\\local\\programs\\lib\\site-packages (from ultralytics) (2.2.4)\n",
            "Requirement already satisfied: matplotlib>=3.3.0 in c:\\users\\abdul\\appdata\\local\\programs\\lib\\site-packages (from ultralytics) (3.10.1)\n",
            "Requirement already satisfied: pillow>=7.1.2 in c:\\users\\abdul\\appdata\\local\\programs\\lib\\site-packages (from ultralytics) (11.2.0)\n",
            "Requirement already satisfied: pyyaml>=5.3.1 in c:\\users\\abdul\\appdata\\local\\programs\\lib\\site-packages (from ultralytics) (6.0.2)\n",
            "Requirement already satisfied: requests>=2.23.0 in c:\\users\\abdul\\appdata\\local\\programs\\lib\\site-packages (from ultralytics) (2.32.3)\n",
            "Requirement already satisfied: scipy>=1.4.1 in c:\\users\\abdul\\appdata\\local\\programs\\lib\\site-packages (from ultralytics) (1.15.2)\n",
            "Requirement already satisfied: torch>=1.8.0 in c:\\users\\abdul\\appdata\\local\\programs\\lib\\site-packages (from ultralytics) (2.7.0+cu126)\n",
            "Requirement already satisfied: torchvision>=0.9.0 in c:\\users\\abdul\\appdata\\local\\programs\\lib\\site-packages (from ultralytics) (0.22.0+cu126)\n",
            "Requirement already satisfied: tqdm>=4.64.0 in c:\\users\\abdul\\appdata\\local\\programs\\lib\\site-packages (from ultralytics) (4.67.1)\n",
            "Requirement already satisfied: psutil in c:\\users\\abdul\\appdata\\local\\programs\\lib\\site-packages (from ultralytics) (7.0.0)\n",
            "Requirement already satisfied: py-cpuinfo in c:\\users\\abdul\\appdata\\local\\programs\\lib\\site-packages (from ultralytics) (9.0.0)\n",
            "Requirement already satisfied: pandas>=1.1.4 in c:\\users\\abdul\\appdata\\local\\programs\\lib\\site-packages (from ultralytics) (2.2.3)\n",
            "Requirement already satisfied: ultralytics-thop>=2.0.0 in c:\\users\\abdul\\appdata\\local\\programs\\lib\\site-packages (from ultralytics) (2.0.14)\n",
            "Requirement already satisfied: contourpy>=1.0.1 in c:\\users\\abdul\\appdata\\local\\programs\\lib\\site-packages (from matplotlib>=3.3.0->ultralytics) (1.3.1)\n",
            "Requirement already satisfied: cycler>=0.10 in c:\\users\\abdul\\appdata\\local\\programs\\lib\\site-packages (from matplotlib>=3.3.0->ultralytics) (0.12.1)\n",
            "Requirement already satisfied: fonttools>=4.22.0 in c:\\users\\abdul\\appdata\\local\\programs\\lib\\site-packages (from matplotlib>=3.3.0->ultralytics) (4.57.0)\n",
            "Requirement already satisfied: kiwisolver>=1.3.1 in c:\\users\\abdul\\appdata\\local\\programs\\lib\\site-packages (from matplotlib>=3.3.0->ultralytics) (1.4.8)\n",
            "Requirement already satisfied: packaging>=20.0 in c:\\users\\abdul\\appdata\\local\\programs\\lib\\site-packages (from matplotlib>=3.3.0->ultralytics) (24.2)\n",
            "Requirement already satisfied: pyparsing>=2.3.1 in c:\\users\\abdul\\appdata\\local\\programs\\lib\\site-packages (from matplotlib>=3.3.0->ultralytics) (3.2.3)\n",
            "Requirement already satisfied: python-dateutil>=2.7 in c:\\users\\abdul\\appdata\\local\\programs\\lib\\site-packages (from matplotlib>=3.3.0->ultralytics) (2.9.0.post0)\n",
            "Requirement already satisfied: pytz>=2020.1 in c:\\users\\abdul\\appdata\\local\\programs\\lib\\site-packages (from pandas>=1.1.4->ultralytics) (2025.2)\n",
            "Requirement already satisfied: tzdata>=2022.7 in c:\\users\\abdul\\appdata\\local\\programs\\lib\\site-packages (from pandas>=1.1.4->ultralytics) (2025.2)\n",
            "Requirement already satisfied: six>=1.5 in c:\\users\\abdul\\appdata\\local\\programs\\lib\\site-packages (from python-dateutil>=2.7->matplotlib>=3.3.0->ultralytics) (1.17.0)\n",
            "Requirement already satisfied: charset-normalizer<4,>=2 in c:\\users\\abdul\\appdata\\local\\programs\\lib\\site-packages (from requests>=2.23.0->ultralytics) (3.4.1)\n",
            "Requirement already satisfied: idna<4,>=2.5 in c:\\users\\abdul\\appdata\\local\\programs\\lib\\site-packages (from requests>=2.23.0->ultralytics) (3.7)\n",
            "Requirement already satisfied: urllib3<3,>=1.21.1 in c:\\users\\abdul\\appdata\\local\\programs\\lib\\site-packages (from requests>=2.23.0->ultralytics) (2.4.0)\n",
            "Requirement already satisfied: certifi>=2017.4.17 in c:\\users\\abdul\\appdata\\local\\programs\\lib\\site-packages (from requests>=2.23.0->ultralytics) (2025.1.31)\n",
            "Requirement already satisfied: filelock in c:\\users\\abdul\\appdata\\local\\programs\\lib\\site-packages (from torch>=1.8.0->ultralytics) (3.18.0)\n",
            "Requirement already satisfied: typing-extensions>=4.10.0 in c:\\users\\abdul\\appdata\\local\\programs\\lib\\site-packages (from torch>=1.8.0->ultralytics) (4.13.2)\n",
            "Requirement already satisfied: sympy>=1.13.3 in c:\\users\\abdul\\appdata\\local\\programs\\lib\\site-packages (from torch>=1.8.0->ultralytics) (1.14.0)\n",
            "Requirement already satisfied: networkx in c:\\users\\abdul\\appdata\\local\\programs\\lib\\site-packages (from torch>=1.8.0->ultralytics) (3.4.2)\n",
            "Requirement already satisfied: jinja2 in c:\\users\\abdul\\appdata\\local\\programs\\lib\\site-packages (from torch>=1.8.0->ultralytics) (3.1.6)\n",
            "Requirement already satisfied: fsspec in c:\\users\\abdul\\appdata\\local\\programs\\lib\\site-packages (from torch>=1.8.0->ultralytics) (2025.3.0)\n",
            "Requirement already satisfied: setuptools in c:\\users\\abdul\\appdata\\local\\programs\\lib\\site-packages (from torch>=1.8.0->ultralytics) (78.1.0)\n",
            "Requirement already satisfied: mpmath<1.4,>=1.1.0 in c:\\users\\abdul\\appdata\\local\\programs\\lib\\site-packages (from sympy>=1.13.3->torch>=1.8.0->ultralytics) (1.3.0)\n",
            "Requirement already satisfied: colorama in c:\\users\\abdul\\appdata\\local\\programs\\lib\\site-packages (from tqdm>=4.64.0->ultralytics) (0.4.6)\n",
            "Requirement already satisfied: MarkupSafe>=2.0 in c:\\users\\abdul\\appdata\\local\\programs\\lib\\site-packages (from jinja2->torch>=1.8.0->ultralytics) (3.0.2)\n"
          ]
        },
        {
          "name": "stderr",
          "output_type": "stream",
          "text": [
            "\n",
            "[notice] A new release of pip is available: 25.1.1 -> 25.2\n",
            "[notice] To update, run: python.exe -m pip install --upgrade pip\n"
          ]
        }
      ],
      "source": [
        "!pip install ultralytics opencv-python"
      ]
    },
    {
      "cell_type": "code",
      "execution_count": 5,
      "metadata": {
        "id": "mETVPVOVdY2f"
      },
      "outputs": [
        {
          "name": "stdout",
          "output_type": "stream",
          "text": [
            "Requirement already satisfied: ultralytics in c:\\users\\abdul\\appdata\\local\\programs\\lib\\site-packages (8.3.146)\n",
            "Requirement already satisfied: numpy>=1.23.0 in c:\\users\\abdul\\appdata\\local\\programs\\lib\\site-packages (from ultralytics) (2.2.4)\n",
            "Requirement already satisfied: matplotlib>=3.3.0 in c:\\users\\abdul\\appdata\\local\\programs\\lib\\site-packages (from ultralytics) (3.10.1)\n",
            "Requirement already satisfied: opencv-python>=4.6.0 in c:\\users\\abdul\\appdata\\local\\programs\\lib\\site-packages (from ultralytics) (4.11.0.86)\n",
            "Requirement already satisfied: pillow>=7.1.2 in c:\\users\\abdul\\appdata\\local\\programs\\lib\\site-packages (from ultralytics) (11.2.0)\n",
            "Requirement already satisfied: pyyaml>=5.3.1 in c:\\users\\abdul\\appdata\\local\\programs\\lib\\site-packages (from ultralytics) (6.0.2)\n",
            "Requirement already satisfied: requests>=2.23.0 in c:\\users\\abdul\\appdata\\local\\programs\\lib\\site-packages (from ultralytics) (2.32.3)\n",
            "Requirement already satisfied: scipy>=1.4.1 in c:\\users\\abdul\\appdata\\local\\programs\\lib\\site-packages (from ultralytics) (1.15.2)\n",
            "Requirement already satisfied: torch>=1.8.0 in c:\\users\\abdul\\appdata\\local\\programs\\lib\\site-packages (from ultralytics) (2.7.0+cu126)\n",
            "Requirement already satisfied: torchvision>=0.9.0 in c:\\users\\abdul\\appdata\\local\\programs\\lib\\site-packages (from ultralytics) (0.22.0+cu126)\n",
            "Requirement already satisfied: tqdm>=4.64.0 in c:\\users\\abdul\\appdata\\local\\programs\\lib\\site-packages (from ultralytics) (4.67.1)\n",
            "Requirement already satisfied: psutil in c:\\users\\abdul\\appdata\\local\\programs\\lib\\site-packages (from ultralytics) (7.0.0)\n",
            "Requirement already satisfied: py-cpuinfo in c:\\users\\abdul\\appdata\\local\\programs\\lib\\site-packages (from ultralytics) (9.0.0)\n",
            "Requirement already satisfied: pandas>=1.1.4 in c:\\users\\abdul\\appdata\\local\\programs\\lib\\site-packages (from ultralytics) (2.2.3)\n",
            "Requirement already satisfied: ultralytics-thop>=2.0.0 in c:\\users\\abdul\\appdata\\local\\programs\\lib\\site-packages (from ultralytics) (2.0.14)\n",
            "Requirement already satisfied: contourpy>=1.0.1 in c:\\users\\abdul\\appdata\\local\\programs\\lib\\site-packages (from matplotlib>=3.3.0->ultralytics) (1.3.1)\n",
            "Requirement already satisfied: cycler>=0.10 in c:\\users\\abdul\\appdata\\local\\programs\\lib\\site-packages (from matplotlib>=3.3.0->ultralytics) (0.12.1)\n",
            "Requirement already satisfied: fonttools>=4.22.0 in c:\\users\\abdul\\appdata\\local\\programs\\lib\\site-packages (from matplotlib>=3.3.0->ultralytics) (4.57.0)\n",
            "Requirement already satisfied: kiwisolver>=1.3.1 in c:\\users\\abdul\\appdata\\local\\programs\\lib\\site-packages (from matplotlib>=3.3.0->ultralytics) (1.4.8)\n",
            "Requirement already satisfied: packaging>=20.0 in c:\\users\\abdul\\appdata\\local\\programs\\lib\\site-packages (from matplotlib>=3.3.0->ultralytics) (24.2)\n",
            "Requirement already satisfied: pyparsing>=2.3.1 in c:\\users\\abdul\\appdata\\local\\programs\\lib\\site-packages (from matplotlib>=3.3.0->ultralytics) (3.2.3)\n",
            "Requirement already satisfied: python-dateutil>=2.7 in c:\\users\\abdul\\appdata\\local\\programs\\lib\\site-packages (from matplotlib>=3.3.0->ultralytics) (2.9.0.post0)\n",
            "Requirement already satisfied: pytz>=2020.1 in c:\\users\\abdul\\appdata\\local\\programs\\lib\\site-packages (from pandas>=1.1.4->ultralytics) (2025.2)\n",
            "Requirement already satisfied: tzdata>=2022.7 in c:\\users\\abdul\\appdata\\local\\programs\\lib\\site-packages (from pandas>=1.1.4->ultralytics) (2025.2)\n",
            "Requirement already satisfied: six>=1.5 in c:\\users\\abdul\\appdata\\local\\programs\\lib\\site-packages (from python-dateutil>=2.7->matplotlib>=3.3.0->ultralytics) (1.17.0)\n",
            "Requirement already satisfied: charset-normalizer<4,>=2 in c:\\users\\abdul\\appdata\\local\\programs\\lib\\site-packages (from requests>=2.23.0->ultralytics) (3.4.1)\n",
            "Requirement already satisfied: idna<4,>=2.5 in c:\\users\\abdul\\appdata\\local\\programs\\lib\\site-packages (from requests>=2.23.0->ultralytics) (3.7)\n",
            "Requirement already satisfied: urllib3<3,>=1.21.1 in c:\\users\\abdul\\appdata\\local\\programs\\lib\\site-packages (from requests>=2.23.0->ultralytics) (2.4.0)\n",
            "Requirement already satisfied: certifi>=2017.4.17 in c:\\users\\abdul\\appdata\\local\\programs\\lib\\site-packages (from requests>=2.23.0->ultralytics) (2025.1.31)\n",
            "Requirement already satisfied: filelock in c:\\users\\abdul\\appdata\\local\\programs\\lib\\site-packages (from torch>=1.8.0->ultralytics) (3.18.0)\n",
            "Requirement already satisfied: typing-extensions>=4.10.0 in c:\\users\\abdul\\appdata\\local\\programs\\lib\\site-packages (from torch>=1.8.0->ultralytics) (4.13.2)\n",
            "Requirement already satisfied: sympy>=1.13.3 in c:\\users\\abdul\\appdata\\local\\programs\\lib\\site-packages (from torch>=1.8.0->ultralytics) (1.14.0)\n",
            "Requirement already satisfied: networkx in c:\\users\\abdul\\appdata\\local\\programs\\lib\\site-packages (from torch>=1.8.0->ultralytics) (3.4.2)\n",
            "Requirement already satisfied: jinja2 in c:\\users\\abdul\\appdata\\local\\programs\\lib\\site-packages (from torch>=1.8.0->ultralytics) (3.1.6)\n",
            "Requirement already satisfied: fsspec in c:\\users\\abdul\\appdata\\local\\programs\\lib\\site-packages (from torch>=1.8.0->ultralytics) (2025.3.0)\n",
            "Requirement already satisfied: setuptools in c:\\users\\abdul\\appdata\\local\\programs\\lib\\site-packages (from torch>=1.8.0->ultralytics) (78.1.0)\n",
            "Requirement already satisfied: mpmath<1.4,>=1.1.0 in c:\\users\\abdul\\appdata\\local\\programs\\lib\\site-packages (from sympy>=1.13.3->torch>=1.8.0->ultralytics) (1.3.0)\n",
            "Requirement already satisfied: colorama in c:\\users\\abdul\\appdata\\local\\programs\\lib\\site-packages (from tqdm>=4.64.0->ultralytics) (0.4.6)\n",
            "Requirement already satisfied: MarkupSafe>=2.0 in c:\\users\\abdul\\appdata\\local\\programs\\lib\\site-packages (from jinja2->torch>=1.8.0->ultralytics) (3.0.2)\n"
          ]
        },
        {
          "name": "stderr",
          "output_type": "stream",
          "text": [
            "\n",
            "[notice] A new release of pip is available: 25.1.1 -> 25.2\n",
            "[notice] To update, run: python.exe -m pip install --upgrade pip\n"
          ]
        },
        {
          "name": "stdout",
          "output_type": "stream",
          "text": [
            "Requirement already satisfied: opencv-python-headless in c:\\users\\abdul\\appdata\\local\\programs\\lib\\site-packages (4.10.0.84)\n",
            "Requirement already satisfied: numpy>=1.21.2 in c:\\users\\abdul\\appdata\\local\\programs\\lib\\site-packages (from opencv-python-headless) (2.2.4)\n"
          ]
        },
        {
          "name": "stderr",
          "output_type": "stream",
          "text": [
            "\n",
            "[notice] A new release of pip is available: 25.1.1 -> 25.2\n",
            "[notice] To update, run: python.exe -m pip install --upgrade pip\n"
          ]
        }
      ],
      "source": [
        "!pip install ultralytics\n",
        "!pip install opencv-python-headless"
      ]
    },
    {
      "cell_type": "code",
      "execution_count": 7,
      "metadata": {
        "id": "E7P9LGCBdlZM"
      },
      "outputs": [
        {
          "name": "stdout",
          "output_type": "stream",
          "text": [
            "{0: 'Angry', 1: 'Disgust', 2: 'Fear', 3: 'Happy', 4: 'Natural', 5: 'Sad', 6: 'Surprised'}\n"
          ]
        }
      ],
      "source": [
        "from ultralytics import YOLO\n",
        "model= YOLO(\"best.pt\")\n",
        "\n",
        "print(model.names)"
      ]
    },
    {
      "cell_type": "code",
      "execution_count": null,
      "metadata": {
        "id": "AKFOYJ22eIs4"
      },
      "outputs": [
        {
          "ename": "NameError",
          "evalue": "name 'results' is not defined",
          "output_type": "error",
          "traceback": [
            "\u001b[31m---------------------------------------------------------------------------\u001b[39m",
            "\u001b[31mNameError\u001b[39m                                 Traceback (most recent call last)",
            "\u001b[36mCell\u001b[39m\u001b[36m \u001b[39m\u001b[32mIn[12]\u001b[39m\u001b[32m, line 8\u001b[39m\n\u001b[32m      4\u001b[39m model= YOLO(\u001b[33m\"\u001b[39m\u001b[33mbest.pt\u001b[39m\u001b[33m\"\u001b[39m)\n\u001b[32m      5\u001b[39m \u001b[38;5;66;03m#results = model.predict(\"OIP.jpg\")\u001b[39;00m\n\u001b[32m      6\u001b[39m \n\u001b[32m      7\u001b[39m \u001b[38;5;66;03m# Plot the first result (YOLOv8/11 returns a list of results)\u001b[39;00m\n\u001b[32m----> \u001b[39m\u001b[32m8\u001b[39m annotated_img = \u001b[43mresults\u001b[49m[\u001b[32m0\u001b[39m].plot()\n\u001b[32m     10\u001b[39m \u001b[38;5;66;03m# Convert BGR to RGB for displaying with matplotlib\u001b[39;00m\n\u001b[32m     11\u001b[39m annotated_img_rgb = cv2.cvtColor(annotated_img, cv2.COLOR_BGR2RGB)\n",
            "\u001b[31mNameError\u001b[39m: name 'results' is not defined"
          ]
        }
      ],
      "source": [
        "from ultralytics import YOLO\n",
        "import cv2\n",
        "from matplotlib import pyplot as plt\n",
        "model= YOLO(\"best.pt\")\n",
        "results = model.predict(\"OIP.jpg\")\n",
        "\n",
        "# Plot the first result (YOLOv8/11 returns a list of results)\n",
        "annotated_img = results[0].plot()\n",
        "\n",
        "# Convert BGR to RGB for displaying with matplotlib\n",
        "annotated_img_rgb = cv2.cvtColor(annotated_img, cv2.COLOR_BGR2RGB)\n",
        "\n",
        "# Display the result\n",
        "plt.figure(figsize=(10, 10))\n",
        "plt.imshow(annotated_img_rgb)\n",
        "plt.axis('off')\n",
        "plt.title(\"YOLO Prediction\")\n",
        "plt.show()"
      ]
    },
    {
      "cell_type": "code",
      "execution_count": 16,
      "metadata": {},
      "outputs": [
        {
          "ename": "error",
          "evalue": "OpenCV(4.10.0) D:\\a\\opencv-python\\opencv-python\\opencv\\modules\\highgui\\src\\window.cpp:1295: error: (-2:Unspecified error) The function is not implemented. Rebuild the library with Windows, GTK+ 2.x or Cocoa support. If you are on Ubuntu or Debian, install libgtk2.0-dev and pkg-config, then re-run cmake or configure script in function 'cvDestroyAllWindows'\n",
          "output_type": "error",
          "traceback": [
            "\u001b[31m---------------------------------------------------------------------------\u001b[39m",
            "\u001b[31merror\u001b[39m                                     Traceback (most recent call last)",
            "\u001b[36mCell\u001b[39m\u001b[36m \u001b[39m\u001b[32mIn[16]\u001b[39m\u001b[32m, line 36\u001b[39m\n\u001b[32m     34\u001b[39m \u001b[38;5;66;03m# Release resources\u001b[39;00m\n\u001b[32m     35\u001b[39m cap.release()\n\u001b[32m---> \u001b[39m\u001b[32m36\u001b[39m \u001b[43mcv2\u001b[49m\u001b[43m.\u001b[49m\u001b[43mdestroyAllWindows\u001b[49m\u001b[43m(\u001b[49m\u001b[43m)\u001b[49m\n",
            "\u001b[31merror\u001b[39m: OpenCV(4.10.0) D:\\a\\opencv-python\\opencv-python\\opencv\\modules\\highgui\\src\\window.cpp:1295: error: (-2:Unspecified error) The function is not implemented. Rebuild the library with Windows, GTK+ 2.x or Cocoa support. If you are on Ubuntu or Debian, install libgtk2.0-dev and pkg-config, then re-run cmake or configure script in function 'cvDestroyAllWindows'\n"
          ]
        }
      ],
      "source": [
        "from ultralytics import YOLO\n",
        "import cv2\n",
        "\n",
        "# Load your trained model\n",
        "model = YOLO(\"best.pt\")\n",
        "\n",
        "# Open webcam (0 = default camera, change to 1,2... if multiple cameras)\n",
        "cap = cv2.VideoCapture(0)\n",
        "\n",
        "if not cap.isOpened():\n",
        "    print(\"Error: Could not open webcam.\")\n",
        "    exit()\n",
        "\n",
        "while True:\n",
        "    # Read frame from webcam\n",
        "    ret, frame = cap.read()\n",
        "    if not ret:\n",
        "        break\n",
        "\n",
        "    # Run YOLO prediction\n",
        "    results = model.predict(frame, stream=True)  # stream=True for efficiency\n",
        "\n",
        "    # Annotate results on the frame\n",
        "    for r in results:\n",
        "        annotated_frame = r.plot()\n",
        "\n",
        "    # Show the annotated frame\n",
        "    cv2.imshow(\"YOLO Webcam Detection\", annotated_frame)\n",
        "\n",
        "    # Press 'q' to quit\n",
        "    if cv2.waitKey(1) & 0xFF == ord('q'):\n",
        "        break\n",
        "\n",
        "# Release resources\n",
        "cap.release()\n",
        "cv2.destroyAllWindows()\n"
      ]
    }
  ],
  "metadata": {
    "colab": {
      "provenance": []
    },
    "kernelspec": {
      "display_name": "Python 3",
      "name": "python3"
    },
    "language_info": {
      "codemirror_mode": {
        "name": "ipython",
        "version": 3
      },
      "file_extension": ".py",
      "mimetype": "text/x-python",
      "name": "python",
      "nbconvert_exporter": "python",
      "pygments_lexer": "ipython3",
      "version": "3.13.2"
    }
  },
  "nbformat": 4,
  "nbformat_minor": 0
}
